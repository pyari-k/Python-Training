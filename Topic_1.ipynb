{
  "nbformat": 4,
  "nbformat_minor": 0,
  "metadata": {
    "colab": {
      "name": "Topic_1.ipynb",
      "provenance": [],
      "authorship_tag": "ABX9TyMawIxbLwalM3+c9H3FvJST",
      "include_colab_link": true
    },
    "kernelspec": {
      "name": "python3",
      "display_name": "Python 3"
    }
  },
  "cells": [
    {
      "cell_type": "markdown",
      "metadata": {
        "id": "view-in-github",
        "colab_type": "text"
      },
      "source": [
        "<a href=\"https://colab.research.google.com/github/pyarisinghk/Python-Training/blob/master/Topic_1.ipynb\" target=\"_parent\"><img src=\"https://colab.research.google.com/assets/colab-badge.svg\" alt=\"Open In Colab\"/></a>"
      ]
    },
    {
      "cell_type": "markdown",
      "metadata": {
        "id": "7tFP6vdhs_NM",
        "colab_type": "text"
      },
      "source": [
        "Data Types - Basic"
      ]
    },
    {
      "cell_type": "code",
      "metadata": {
        "id": "GateSMO5sbXF",
        "colab_type": "code",
        "colab": {
          "base_uri": "https://localhost:8080/",
          "height": 34
        },
        "outputId": "94681668-ca91-4d97-863f-2ae375c31ff0"
      },
      "source": [
        "type(1)"
      ],
      "execution_count": 1,
      "outputs": [
        {
          "output_type": "execute_result",
          "data": {
            "text/plain": [
              "int"
            ]
          },
          "metadata": {
            "tags": []
          },
          "execution_count": 1
        }
      ]
    },
    {
      "cell_type": "code",
      "metadata": {
        "id": "86QXe39itNnR",
        "colab_type": "code",
        "colab": {
          "base_uri": "https://localhost:8080/",
          "height": 34
        },
        "outputId": "0f185506-fd58-4d8a-8901-d712944ed168"
      },
      "source": [
        "type(1.2)"
      ],
      "execution_count": 2,
      "outputs": [
        {
          "output_type": "execute_result",
          "data": {
            "text/plain": [
              "float"
            ]
          },
          "metadata": {
            "tags": []
          },
          "execution_count": 2
        }
      ]
    },
    {
      "cell_type": "code",
      "metadata": {
        "id": "FvfO6yR1tQDC",
        "colab_type": "code",
        "colab": {
          "base_uri": "https://localhost:8080/",
          "height": 34
        },
        "outputId": "e7bef745-b644-4fc6-c4e1-7d112f602953"
      },
      "source": [
        "type('a')"
      ],
      "execution_count": 3,
      "outputs": [
        {
          "output_type": "execute_result",
          "data": {
            "text/plain": [
              "str"
            ]
          },
          "metadata": {
            "tags": []
          },
          "execution_count": 3
        }
      ]
    },
    {
      "cell_type": "code",
      "metadata": {
        "id": "nYfbB6nCtSIB",
        "colab_type": "code",
        "colab": {
          "base_uri": "https://localhost:8080/",
          "height": 34
        },
        "outputId": "b70737d1-4078-46f3-842e-582cc30f1edd"
      },
      "source": [
        "type(\"hello world\")"
      ],
      "execution_count": 4,
      "outputs": [
        {
          "output_type": "execute_result",
          "data": {
            "text/plain": [
              "str"
            ]
          },
          "metadata": {
            "tags": []
          },
          "execution_count": 4
        }
      ]
    },
    {
      "cell_type": "code",
      "metadata": {
        "id": "7bq7Ca44tUK5",
        "colab_type": "code",
        "colab": {
          "base_uri": "https://localhost:8080/",
          "height": 34
        },
        "outputId": "f17822b5-967f-439b-f531-e1e850cae02a"
      },
      "source": [
        "type(False)"
      ],
      "execution_count": 5,
      "outputs": [
        {
          "output_type": "execute_result",
          "data": {
            "text/plain": [
              "bool"
            ]
          },
          "metadata": {
            "tags": []
          },
          "execution_count": 5
        }
      ]
    },
    {
      "cell_type": "markdown",
      "metadata": {
        "id": "Uapxf2BOtYo5",
        "colab_type": "text"
      },
      "source": [
        "Data Structures - Types\n",
        "\n",
        "List -  mutable and ordered data structure"
      ]
    },
    {
      "cell_type": "code",
      "metadata": {
        "id": "12yaAcwvtc9c",
        "colab_type": "code",
        "colab": {
          "base_uri": "https://localhost:8080/",
          "height": 34
        },
        "outputId": "f5a98843-5c0f-43c0-e9ad-df5a487fcf73"
      },
      "source": [
        "list_of_fruits = [\"apple\", \"mango\", \"jack fruit\", \"pineapple\", \"grapes\"]\n",
        "type(list_of_fruits)"
      ],
      "execution_count": 7,
      "outputs": [
        {
          "output_type": "execute_result",
          "data": {
            "text/plain": [
              "list"
            ]
          },
          "metadata": {
            "tags": []
          },
          "execution_count": 7
        }
      ]
    },
    {
      "cell_type": "markdown",
      "metadata": {
        "id": "1B0_3vPHuRol",
        "colab_type": "text"
      },
      "source": [
        "Tuple - ordered but not mutable"
      ]
    },
    {
      "cell_type": "code",
      "metadata": {
        "id": "eBdUkeFBtqO4",
        "colab_type": "code",
        "colab": {
          "base_uri": "https://localhost:8080/",
          "height": 34
        },
        "outputId": "05d8a5bb-caf7-4ea0-b039-e31541a3c6b3"
      },
      "source": [
        "tuple_dimensions_of_a_box = (1,2,3)\n",
        "type(tuple_dimensions_of_a_box)"
      ],
      "execution_count": 8,
      "outputs": [
        {
          "output_type": "execute_result",
          "data": {
            "text/plain": [
              "tuple"
            ]
          },
          "metadata": {
            "tags": []
          },
          "execution_count": 8
        }
      ]
    },
    {
      "cell_type": "code",
      "metadata": {
        "id": "5K13GoOxuMsY",
        "colab_type": "code",
        "colab": {
          "base_uri": "https://localhost:8080/",
          "height": 34
        },
        "outputId": "5de5f313-aea5-4c3e-f3cb-982d850a50f6"
      },
      "source": [
        "tuple_latitude_longitude = (11.12, 12.33)\n",
        "type(tuple_latitude_longitude)"
      ],
      "execution_count": 9,
      "outputs": [
        {
          "output_type": "execute_result",
          "data": {
            "text/plain": [
              "tuple"
            ]
          },
          "metadata": {
            "tags": []
          },
          "execution_count": 9
        }
      ]
    },
    {
      "cell_type": "markdown",
      "metadata": {
        "id": "xXAnKpDuvEv0",
        "colab_type": "text"
      },
      "source": [
        "Sets -  Unordered and mutable, holds only unique elements"
      ]
    },
    {
      "cell_type": "code",
      "metadata": {
        "id": "N3fGLdDjvIsy",
        "colab_type": "code",
        "colab": {
          "base_uri": "https://localhost:8080/",
          "height": 34
        },
        "outputId": "f3361033-5fab-4990-a8df-1363ff18b635"
      },
      "source": [
        "list_of_countries =  [\"India\", \"India\", \"China\", \"Nepal\", \"Pakistan\", \"Pakistan\"]\n",
        "set_of_countries = set(list_of_countries)\n",
        "type(set_of_countries)"
      ],
      "execution_count": 10,
      "outputs": [
        {
          "output_type": "execute_result",
          "data": {
            "text/plain": [
              "set"
            ]
          },
          "metadata": {
            "tags": []
          },
          "execution_count": 10
        }
      ]
    },
    {
      "cell_type": "markdown",
      "metadata": {
        "id": "FfdU-WclviEc",
        "colab_type": "text"
      },
      "source": [
        "Dictionaries - Key Value Pairs"
      ]
    },
    {
      "cell_type": "code",
      "metadata": {
        "id": "WJtPwHEOvkrq",
        "colab_type": "code",
        "colab": {
          "base_uri": "https://localhost:8080/",
          "height": 34
        },
        "outputId": "63e6487b-64e4-4340-ebfd-4de36bf9b43f"
      },
      "source": [
        "student_details = {'GPS_1': \"Priya\",\n",
        "\"GPS_2\":\"Reena\",\n",
        "\"GPS_3\": 'Latha',\n",
        "\"GPS_4\":'Ankita',\n",
        "\"GPS_5\": 'Nikil', \n",
        "1: 'Gayathri', \n",
        "2: 'Ahaan'\n",
        "}\n",
        "type(student_details)"
      ],
      "execution_count": 16,
      "outputs": [
        {
          "output_type": "execute_result",
          "data": {
            "text/plain": [
              "dict"
            ]
          },
          "metadata": {
            "tags": []
          },
          "execution_count": 16
        }
      ]
    }
  ]
}