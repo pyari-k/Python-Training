{
  "nbformat": 4,
  "nbformat_minor": 0,
  "metadata": {
    "colab": {
      "name": "Topic_2_Lists.ipynb",
      "provenance": [],
      "authorship_tag": "ABX9TyNjUF/BzF9rrbxw6TNMjA7V",
      "include_colab_link": true
    },
    "kernelspec": {
      "name": "python3",
      "display_name": "Python 3"
    }
  },
  "cells": [
    {
      "cell_type": "markdown",
      "metadata": {
        "id": "view-in-github",
        "colab_type": "text"
      },
      "source": [
        "<a href=\"https://colab.research.google.com/github/pyarisinghk/Python-Training/blob/master/Topic_2_Lists.ipynb\" target=\"_parent\"><img src=\"https://colab.research.google.com/assets/colab-badge.svg\" alt=\"Open In Colab\"/></a>"
      ]
    },
    {
      "cell_type": "markdown",
      "metadata": {
        "id": "4vl7TR41vKsQ",
        "colab_type": "text"
      },
      "source": [
        "### List is one of the commonly used data structures in Python. It is mutable and ordered"
      ]
    },
    {
      "cell_type": "code",
      "metadata": {
        "id": "ogAzuq39u0g0",
        "colab_type": "code",
        "colab": {}
      },
      "source": [
        "sample_list = [\"Sunday\", \"Monday\", \"Tuesday\", \"Wednesday\", \"Thursday\", \"Friday\", \"Saturday\"]"
      ],
      "execution_count": 56,
      "outputs": []
    },
    {
      "cell_type": "code",
      "metadata": {
        "id": "tvi7nK93vtC7",
        "colab_type": "code",
        "colab": {
          "base_uri": "https://localhost:8080/",
          "height": 35
        },
        "outputId": "89303d01-6f52-4ec8-8cee-444f8261db68"
      },
      "source": [
        "sample_list[0]"
      ],
      "execution_count": 57,
      "outputs": [
        {
          "output_type": "execute_result",
          "data": {
            "application/vnd.google.colaboratory.intrinsic": {
              "type": "string"
            },
            "text/plain": [
              "'Sunday'"
            ]
          },
          "metadata": {
            "tags": []
          },
          "execution_count": 57
        }
      ]
    },
    {
      "cell_type": "code",
      "metadata": {
        "id": "AgTCwPG5v2t_",
        "colab_type": "code",
        "colab": {
          "base_uri": "https://localhost:8080/",
          "height": 35
        },
        "outputId": "807768fc-3876-4829-cdd2-7ccb7747a617"
      },
      "source": [
        "sample_list[-1]"
      ],
      "execution_count": 58,
      "outputs": [
        {
          "output_type": "execute_result",
          "data": {
            "application/vnd.google.colaboratory.intrinsic": {
              "type": "string"
            },
            "text/plain": [
              "'Saturday'"
            ]
          },
          "metadata": {
            "tags": []
          },
          "execution_count": 58
        }
      ]
    },
    {
      "cell_type": "code",
      "metadata": {
        "id": "JcbPyfufv5-y",
        "colab_type": "code",
        "colab": {
          "base_uri": "https://localhost:8080/",
          "height": 34
        },
        "outputId": "dad25073-a855-428d-ca02-1144d92843e1"
      },
      "source": [
        "sample_list[0:2] #will list elements at the position 0 and 1 only. 2 is out of the bounds"
      ],
      "execution_count": 59,
      "outputs": [
        {
          "output_type": "execute_result",
          "data": {
            "text/plain": [
              "['Sunday', 'Monday']"
            ]
          },
          "metadata": {
            "tags": []
          },
          "execution_count": 59
        }
      ]
    },
    {
      "cell_type": "code",
      "metadata": {
        "id": "fb32Z7QfwFnv",
        "colab_type": "code",
        "colab": {
          "base_uri": "https://localhost:8080/",
          "height": 34
        },
        "outputId": "7ab70f8f-62d7-484d-9f89-68f19a4ccd1d"
      },
      "source": [
        "sample_list[-2:-1] #will list only the one at -2, which is Friday. -1, Saturday will not be listed. "
      ],
      "execution_count": 60,
      "outputs": [
        {
          "output_type": "execute_result",
          "data": {
            "text/plain": [
              "['Friday']"
            ]
          },
          "metadata": {
            "tags": []
          },
          "execution_count": 60
        }
      ]
    },
    {
      "cell_type": "code",
      "metadata": {
        "id": "eYp4NXykzRRm",
        "colab_type": "code",
        "colab": {
          "base_uri": "https://localhost:8080/",
          "height": 34
        },
        "outputId": "8ff11893-374e-445c-fc11-772a4dabe001"
      },
      "source": [
        "sample_list[:2] #when lower bound is not given, it assumes the start"
      ],
      "execution_count": 61,
      "outputs": [
        {
          "output_type": "execute_result",
          "data": {
            "text/plain": [
              "['Sunday', 'Monday']"
            ]
          },
          "metadata": {
            "tags": []
          },
          "execution_count": 61
        }
      ]
    },
    {
      "cell_type": "code",
      "metadata": {
        "id": "CBTeclHXzci1",
        "colab_type": "code",
        "colab": {
          "base_uri": "https://localhost:8080/",
          "height": 34
        },
        "outputId": "8c3ee55b-8f69-4e0d-9344-f452acc5d976"
      },
      "source": [
        "sample_list[-3:] #when uppper bound is not given, it assumes the end (note, last value is included)"
      ],
      "execution_count": 62,
      "outputs": [
        {
          "output_type": "execute_result",
          "data": {
            "text/plain": [
              "['Thursday', 'Friday', 'Saturday']"
            ]
          },
          "metadata": {
            "tags": []
          },
          "execution_count": 62
        }
      ]
    },
    {
      "cell_type": "markdown",
      "metadata": {
        "id": "B1NCEngKxNy4",
        "colab_type": "text"
      },
      "source": [
        "### Append to a list"
      ]
    },
    {
      "cell_type": "code",
      "metadata": {
        "id": "XbxTyOWwxXWT",
        "colab_type": "code",
        "colab": {
          "base_uri": "https://localhost:8080/",
          "height": 34
        },
        "outputId": "2f40b175-1f34-4190-e949-0c77a5762a61"
      },
      "source": [
        "list_of_numbers = []\n",
        "for num in range(1,11): #remember - 11 will not be included\n",
        "  list_of_numbers.append(num)\n",
        "print(list_of_numbers)"
      ],
      "execution_count": 63,
      "outputs": [
        {
          "output_type": "stream",
          "text": [
            "[1, 2, 3, 4, 5, 6, 7, 8, 9, 10]\n"
          ],
          "name": "stdout"
        }
      ]
    },
    {
      "cell_type": "markdown",
      "metadata": {
        "id": "NyG6TpB_xxKU",
        "colab_type": "text"
      },
      "source": [
        "### Membership operators in Python \n",
        "* in \n",
        "* not in "
      ]
    },
    {
      "cell_type": "code",
      "metadata": {
        "id": "cJuQ4yLUygGH",
        "colab_type": "code",
        "colab": {
          "base_uri": "https://localhost:8080/",
          "height": 34
        },
        "outputId": "7431e967-3fe7-4c26-dc64-172067f81c4b"
      },
      "source": [
        "list_of_programming_languages = [\"Python\", \"C++\", \"Java\", \"R\", \"Kotlin\"]\n",
        "if(\"C\" in list_of_programming_languages):\n",
        "  print(\"C is in given list of programming languages\")\n",
        "\n",
        "if (\"C\" not in list_of_programming_languages):\n",
        "  print(\"C is not in the given list of programming languages\")"
      ],
      "execution_count": 64,
      "outputs": [
        {
          "output_type": "stream",
          "text": [
            "C is not in the given list of programming languages\n"
          ],
          "name": "stdout"
        }
      ]
    },
    {
      "cell_type": "code",
      "metadata": {
        "id": "I0r0gcs4x2wZ",
        "colab_type": "code",
        "colab": {
          "base_uri": "https://localhost:8080/",
          "height": 51
        },
        "outputId": "4a72b353-12c2-44d3-d6a3-436d1797a431"
      },
      "source": [
        "upper_bound = 20\n",
        "lower_bound = 10\n",
        "sample_range = range(10,20)\n",
        "if lower_bound in sample_range:\n",
        "  print(\"Lower bound is included in range in Python\")\n",
        "else:\n",
        "  print(\"Lower bound is not included in range in Python\")\n",
        "\n",
        "if upper_bound in sample_range:\n",
        "  print(\"Upper bound is included in range in Python\")\n",
        "else:\n",
        "  print(\"Upper bound is not included in range in Python\")"
      ],
      "execution_count": 65,
      "outputs": [
        {
          "output_type": "stream",
          "text": [
            "Lower bound is included in range in Python\n",
            "Upper bound is not included in range in Python\n"
          ],
          "name": "stdout"
        }
      ]
    },
    {
      "cell_type": "markdown",
      "metadata": {
        "id": "R87fu9E90jyw",
        "colab_type": "text"
      },
      "source": [
        "### List is mutable"
      ]
    },
    {
      "cell_type": "code",
      "metadata": {
        "id": "RUivy4vk0my3",
        "colab_type": "code",
        "colab": {
          "base_uri": "https://localhost:8080/",
          "height": 34
        },
        "outputId": "29ce44b7-6bca-46d1-9c3c-7da4a85384ae"
      },
      "source": [
        "list_of_numbers[4] = \"Five\"\n",
        "list_of_numbers[5] = \"Six\"\n",
        "list_of_numbers"
      ],
      "execution_count": 66,
      "outputs": [
        {
          "output_type": "execute_result",
          "data": {
            "text/plain": [
              "[1, 2, 3, 4, 'Five', 'Six', 7, 8, 9, 10]"
            ]
          },
          "metadata": {
            "tags": []
          },
          "execution_count": 66
        }
      ]
    },
    {
      "cell_type": "markdown",
      "metadata": {
        "id": "bEYzMXlx0-Kg",
        "colab_type": "text"
      },
      "source": [
        "### Identity operators \n",
        "* is (returns true if the values on either side of the operator points to the same object)\n",
        "* not is"
      ]
    },
    {
      "cell_type": "code",
      "metadata": {
        "id": "1ZIls4vu1KP6",
        "colab_type": "code",
        "colab": {
          "base_uri": "https://localhost:8080/",
          "height": 68
        },
        "outputId": "3eb08002-7066-4fdb-8763-dbd4745267fc"
      },
      "source": [
        "fruits = [\"apple\", \"mango\", \"jack fruit\"]\n",
        "F = fruits\n",
        "\n",
        "if(fruits is F):\n",
        "  print(\"fruits IS same as F\")\n",
        "\n",
        "Fruits = [\"apple\", \"mango\", \"jack fruit\"]\n",
        "\n",
        "if(fruits is Fruits):\n",
        "  print(\"fruits IS same as Fruits\")\n",
        "\n",
        "if(fruits is not Fruits):\n",
        "  print(\"fruits IS not same as Fruits\")  \n",
        "\n",
        "if(fruits == Fruits):\n",
        "  print(\"But, fruits is equal to Fruits\")\n"
      ],
      "execution_count": 67,
      "outputs": [
        {
          "output_type": "stream",
          "text": [
            "fruits IS same as F\n",
            "fruits IS not same as Fruits\n",
            "But, fruits is equal to Fruits\n"
          ],
          "name": "stdout"
        }
      ]
    },
    {
      "cell_type": "markdown",
      "metadata": {
        "id": "anuGbnin2rSt",
        "colab_type": "text"
      },
      "source": [
        "### Methods on/for Lists\n",
        "* len\n",
        "* sorted\n",
        "* min\n",
        "* max\n",
        "* join"
      ]
    },
    {
      "cell_type": "code",
      "metadata": {
        "id": "ssS2KCBf2uQq",
        "colab_type": "code",
        "colab": {
          "base_uri": "https://localhost:8080/",
          "height": 34
        },
        "outputId": "dce800fa-bdc4-4508-ecc3-214dff71ef77"
      },
      "source": [
        "len(fruits)"
      ],
      "execution_count": 68,
      "outputs": [
        {
          "output_type": "execute_result",
          "data": {
            "text/plain": [
              "3"
            ]
          },
          "metadata": {
            "tags": []
          },
          "execution_count": 68
        }
      ]
    },
    {
      "cell_type": "code",
      "metadata": {
        "id": "lzI0AJAK6CZa",
        "colab_type": "code",
        "colab": {
          "base_uri": "https://localhost:8080/",
          "height": 51
        },
        "outputId": "a3195353-2650-4b7b-b0e3-79672291ed0c"
      },
      "source": [
        "list_of_programming_languages = [\"Python\", \"C++\", \"Java\", \"R\", \"Kotlin\"]\n",
        "\n",
        "print(list_of_programming_languages)\n",
        "sorted_list = sorted(list_of_programming_languages)\n",
        "print(sorted_list)"
      ],
      "execution_count": 69,
      "outputs": [
        {
          "output_type": "stream",
          "text": [
            "['Python', 'C++', 'Java', 'R', 'Kotlin']\n",
            "['C++', 'Java', 'Kotlin', 'Python', 'R']\n"
          ],
          "name": "stdout"
        }
      ]
    },
    {
      "cell_type": "code",
      "metadata": {
        "id": "mhHVUZ1v8WP5",
        "colab_type": "code",
        "colab": {
          "base_uri": "https://localhost:8080/",
          "height": 34
        },
        "outputId": "8f3551bb-3573-4a1c-a8ce-5269ca1f3777"
      },
      "source": [
        "number_list = [100, 2000, 20, 21, 34]\n",
        "highest_number = max(number_list)\n",
        "print(highest_number)"
      ],
      "execution_count": 70,
      "outputs": [
        {
          "output_type": "stream",
          "text": [
            "2000\n"
          ],
          "name": "stdout"
        }
      ]
    },
    {
      "cell_type": "code",
      "metadata": {
        "id": "sQ6uJrl486t4",
        "colab_type": "code",
        "colab": {
          "base_uri": "https://localhost:8080/",
          "height": 34
        },
        "outputId": "4643582a-278e-4934-c027-5b18d3437894"
      },
      "source": [
        "lowest_number = min(number_list)\n",
        "lowest_number"
      ],
      "execution_count": 71,
      "outputs": [
        {
          "output_type": "execute_result",
          "data": {
            "text/plain": [
              "20"
            ]
          },
          "metadata": {
            "tags": []
          },
          "execution_count": 71
        }
      ]
    },
    {
      "cell_type": "markdown",
      "metadata": {
        "id": "diXPLrRJ-kHv",
        "colab_type": "text"
      },
      "source": [
        "### Removes a specified element\n",
        "remove"
      ]
    },
    {
      "cell_type": "code",
      "metadata": {
        "id": "j1Wog9u49iZZ",
        "colab_type": "code",
        "colab": {
          "base_uri": "https://localhost:8080/",
          "height": 51
        },
        "outputId": "835b778c-5aaa-4502-eb4d-06bf4804671f"
      },
      "source": [
        "list_of_programming_languages = [\"Python\", \"C++\", \"Java\", \"R\", \"Kotlin\"]\n",
        "print(list_of_programming_languages)\n",
        "\n",
        "list_of_programming_languages.remove(\"Python\") #note, the list gets updated there itself\n",
        "print(list_of_programming_languages)"
      ],
      "execution_count": 72,
      "outputs": [
        {
          "output_type": "stream",
          "text": [
            "['Python', 'C++', 'Java', 'R', 'Kotlin']\n",
            "['C++', 'Java', 'R', 'Kotlin']\n"
          ],
          "name": "stdout"
        }
      ]
    },
    {
      "cell_type": "markdown",
      "metadata": {
        "id": "yvBW2ujJ-t60",
        "colab_type": "text"
      },
      "source": [
        "### Removes an element by index \n",
        "pop with index as argument"
      ]
    },
    {
      "cell_type": "code",
      "metadata": {
        "id": "k_YByC21-J-s",
        "colab_type": "code",
        "colab": {
          "base_uri": "https://localhost:8080/",
          "height": 51
        },
        "outputId": "18311655-b418-43e0-bc1e-772047110eab"
      },
      "source": [
        "list_of_programming_languages = [\"Python\", \"C++\", \"Java\", \"R\", \"Kotlin\"]\n",
        "print(list_of_programming_languages)\n",
        "\n",
        "list_of_programming_languages.pop(1) #note, the list gets updated there itself\n",
        "print(list_of_programming_languages)"
      ],
      "execution_count": 73,
      "outputs": [
        {
          "output_type": "stream",
          "text": [
            "['Python', 'C++', 'Java', 'R', 'Kotlin']\n",
            "['Python', 'Java', 'R', 'Kotlin']\n"
          ],
          "name": "stdout"
        }
      ]
    },
    {
      "cell_type": "markdown",
      "metadata": {
        "id": "fUxfVma1-5uX",
        "colab_type": "text"
      },
      "source": [
        "### Removes the last item\n",
        "\n",
        "pop"
      ]
    },
    {
      "cell_type": "code",
      "metadata": {
        "id": "oc6t31dn-fqA",
        "colab_type": "code",
        "colab": {
          "base_uri": "https://localhost:8080/",
          "height": 51
        },
        "outputId": "02819769-f988-4024-ce1e-06a972ea6299"
      },
      "source": [
        "list_of_programming_languages = [\"Python\", \"C++\", \"Java\", \"R\", \"Kotlin\"]\n",
        "print(list_of_programming_languages)\n",
        "\n",
        "list_of_programming_languages.pop() #note, the last item gets removed\n",
        "print(list_of_programming_languages)"
      ],
      "execution_count": 74,
      "outputs": [
        {
          "output_type": "stream",
          "text": [
            "['Python', 'C++', 'Java', 'R', 'Kotlin']\n",
            "['Python', 'C++', 'Java', 'R']\n"
          ],
          "name": "stdout"
        }
      ]
    },
    {
      "cell_type": "markdown",
      "metadata": {
        "id": "Cq2F1VOw_PSE",
        "colab_type": "text"
      },
      "source": [
        "### Removing items in the list using del"
      ]
    },
    {
      "cell_type": "code",
      "metadata": {
        "id": "gXtrOnIf_R-p",
        "colab_type": "code",
        "colab": {
          "base_uri": "https://localhost:8080/",
          "height": 51
        },
        "outputId": "a31395ab-111f-492e-9af4-30c4c71cd245"
      },
      "source": [
        "list_of_programming_languages = [\"Python\", \"C++\", \"Java\", \"R\", \"Kotlin\"]\n",
        "print(list_of_programming_languages)\n",
        "\n",
        "del list_of_programming_languages[0:2] #note, elements at 0th and 1st position gets removed\n",
        "print(list_of_programming_languages)"
      ],
      "execution_count": 75,
      "outputs": [
        {
          "output_type": "stream",
          "text": [
            "['Python', 'C++', 'Java', 'R', 'Kotlin']\n",
            "['Java', 'R', 'Kotlin']\n"
          ],
          "name": "stdout"
        }
      ]
    },
    {
      "cell_type": "markdown",
      "metadata": {
        "id": "9E2w0hwH_uyg",
        "colab_type": "text"
      },
      "source": [
        "### Joins "
      ]
    },
    {
      "cell_type": "code",
      "metadata": {
        "id": "IntT66ALAE7c",
        "colab_type": "code",
        "colab": {
          "base_uri": "https://localhost:8080/",
          "height": 34
        },
        "outputId": "e7164c2a-7aa6-4a5c-9d5b-a3eac6131db3"
      },
      "source": [
        "words_list = [\"Topic\", \"2\", \"Lists\", \"in\", \"Python\"]\n",
        "file_name = \"-\".join(words_list)\n",
        "print(file_name)"
      ],
      "execution_count": 76,
      "outputs": [
        {
          "output_type": "stream",
          "text": [
            "Topic-2-Lists-in-Python\n"
          ],
          "name": "stdout"
        }
      ]
    },
    {
      "cell_type": "code",
      "metadata": {
        "id": "AypUKf60AdQZ",
        "colab_type": "code",
        "colab": {
          "base_uri": "https://localhost:8080/",
          "height": 102
        },
        "outputId": "14ccd975-dbdc-4c5a-e64f-c9b1f4175fa6"
      },
      "source": [
        "names_list = [\"Suresh\", \"Biju\", \"Byju\", \"Lekha\", \"Fathima\"]\n",
        "list_of_names = \"\\n\".join(names_list)\n",
        "print(list_of_names)"
      ],
      "execution_count": 77,
      "outputs": [
        {
          "output_type": "stream",
          "text": [
            "Suresh\n",
            "Biju\n",
            "Byju\n",
            "Lekha\n",
            "Fathima\n"
          ],
          "name": "stdout"
        }
      ]
    },
    {
      "cell_type": "markdown",
      "metadata": {
        "id": "ndAy22pJA1O9",
        "colab_type": "text"
      },
      "source": [
        "### Split"
      ]
    },
    {
      "cell_type": "code",
      "metadata": {
        "id": "VQnh_cGAA3Se",
        "colab_type": "code",
        "colab": {
          "base_uri": "https://localhost:8080/",
          "height": 34
        },
        "outputId": "e32f4bdc-3221-478c-a4e9-eaa35fc330a0"
      },
      "source": [
        "hello = \"My name is pyari\"\n",
        "hello.split(\" \")"
      ],
      "execution_count": 78,
      "outputs": [
        {
          "output_type": "execute_result",
          "data": {
            "text/plain": [
              "['My', 'name', 'is', 'pyari']"
            ]
          },
          "metadata": {
            "tags": []
          },
          "execution_count": 78
        }
      ]
    },
    {
      "cell_type": "markdown",
      "metadata": {
        "id": "4HqrrD5WQKU5",
        "colab_type": "text"
      },
      "source": [
        "### End of Topic 2"
      ]
    }
  ]
}