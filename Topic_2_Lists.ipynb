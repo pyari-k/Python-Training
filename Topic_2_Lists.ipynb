{
  "nbformat": 4,
  "nbformat_minor": 0,
  "metadata": {
    "colab": {
      "name": "Topic_2_Lists.ipynb",
      "provenance": [],
      "authorship_tag": "ABX9TyPMn4NUKUNNZMPQj69VUCDd",
      "include_colab_link": true
    },
    "kernelspec": {
      "name": "python3",
      "display_name": "Python 3"
    }
  },
  "cells": [
    {
      "cell_type": "markdown",
      "metadata": {
        "id": "view-in-github",
        "colab_type": "text"
      },
      "source": [
        "<a href=\"https://colab.research.google.com/github/pyarisinghk/Python-Training/blob/master/Topic_2_Lists.ipynb\" target=\"_parent\"><img src=\"https://colab.research.google.com/assets/colab-badge.svg\" alt=\"Open In Colab\"/></a>"
      ]
    },
    {
      "cell_type": "markdown",
      "metadata": {
        "id": "4vl7TR41vKsQ",
        "colab_type": "text"
      },
      "source": [
        "### List is one of the commonly used data structure in Python. It is mutable and ordered"
      ]
    },
    {
      "cell_type": "code",
      "metadata": {
        "id": "ogAzuq39u0g0",
        "colab_type": "code",
        "colab": {}
      },
      "source": [
        "sample_list = [\"Sunday\", \"Monday\", \"Tuesday\", \"Wednesday\", \"Thursday\", \"Friday\", \"Saturday\"]"
      ],
      "execution_count": 2,
      "outputs": []
    },
    {
      "cell_type": "code",
      "metadata": {
        "id": "tvi7nK93vtC7",
        "colab_type": "code",
        "colab": {
          "base_uri": "https://localhost:8080/",
          "height": 35
        },
        "outputId": "2b6ae2af-64f8-449d-872b-de0cfeb56151"
      },
      "source": [
        "sample_list[0]"
      ],
      "execution_count": 3,
      "outputs": [
        {
          "output_type": "execute_result",
          "data": {
            "application/vnd.google.colaboratory.intrinsic": {
              "type": "string"
            },
            "text/plain": [
              "'Sunday'"
            ]
          },
          "metadata": {
            "tags": []
          },
          "execution_count": 3
        }
      ]
    },
    {
      "cell_type": "code",
      "metadata": {
        "id": "AgTCwPG5v2t_",
        "colab_type": "code",
        "colab": {
          "base_uri": "https://localhost:8080/",
          "height": 35
        },
        "outputId": "278a6e95-9a89-4744-d3de-00dc90d18ae0"
      },
      "source": [
        "sample_list[-1]"
      ],
      "execution_count": 4,
      "outputs": [
        {
          "output_type": "execute_result",
          "data": {
            "application/vnd.google.colaboratory.intrinsic": {
              "type": "string"
            },
            "text/plain": [
              "'Saturday'"
            ]
          },
          "metadata": {
            "tags": []
          },
          "execution_count": 4
        }
      ]
    },
    {
      "cell_type": "code",
      "metadata": {
        "id": "JcbPyfufv5-y",
        "colab_type": "code",
        "colab": {
          "base_uri": "https://localhost:8080/",
          "height": 34
        },
        "outputId": "c90477d7-ddef-42d2-bc4f-48e7fd0610e9"
      },
      "source": [
        "sample_list[0:2] #will list elements at the position 0 and 1 only. 2 is out of the bounds"
      ],
      "execution_count": 5,
      "outputs": [
        {
          "output_type": "execute_result",
          "data": {
            "text/plain": [
              "['Sunday', 'Monday']"
            ]
          },
          "metadata": {
            "tags": []
          },
          "execution_count": 5
        }
      ]
    },
    {
      "cell_type": "code",
      "metadata": {
        "id": "fb32Z7QfwFnv",
        "colab_type": "code",
        "colab": {
          "base_uri": "https://localhost:8080/",
          "height": 34
        },
        "outputId": "7a5fc652-05f9-4dc7-c844-860563aa6cd3"
      },
      "source": [
        "sample_list[-2:-1] #will list only the one at -2, which is Friday. -1, Saturday will not be listed. "
      ],
      "execution_count": 6,
      "outputs": [
        {
          "output_type": "execute_result",
          "data": {
            "text/plain": [
              "['Friday']"
            ]
          },
          "metadata": {
            "tags": []
          },
          "execution_count": 6
        }
      ]
    },
    {
      "cell_type": "code",
      "metadata": {
        "id": "eYp4NXykzRRm",
        "colab_type": "code",
        "colab": {
          "base_uri": "https://localhost:8080/",
          "height": 34
        },
        "outputId": "b7aacc80-7737-43b6-9361-80b4aa768aa0"
      },
      "source": [
        "sample_list[:2] #when lower bound is not given, it assumes the start"
      ],
      "execution_count": 15,
      "outputs": [
        {
          "output_type": "execute_result",
          "data": {
            "text/plain": [
              "['Sunday', 'Monday']"
            ]
          },
          "metadata": {
            "tags": []
          },
          "execution_count": 15
        }
      ]
    },
    {
      "cell_type": "code",
      "metadata": {
        "id": "CBTeclHXzci1",
        "colab_type": "code",
        "colab": {
          "base_uri": "https://localhost:8080/",
          "height": 34
        },
        "outputId": "cc44196a-d6da-4a87-b9af-9eb51154bc63"
      },
      "source": [
        "sample_list[-3:] #when uppper bound is not given, it assumes the end (note, last value is included)"
      ],
      "execution_count": 16,
      "outputs": [
        {
          "output_type": "execute_result",
          "data": {
            "text/plain": [
              "['Thursday', 'Friday', 'Saturday']"
            ]
          },
          "metadata": {
            "tags": []
          },
          "execution_count": 16
        }
      ]
    },
    {
      "cell_type": "markdown",
      "metadata": {
        "id": "B1NCEngKxNy4",
        "colab_type": "text"
      },
      "source": [
        "### Append to a list"
      ]
    },
    {
      "cell_type": "code",
      "metadata": {
        "id": "XbxTyOWwxXWT",
        "colab_type": "code",
        "colab": {
          "base_uri": "https://localhost:8080/",
          "height": 34
        },
        "outputId": "831e2ccd-eaed-4b71-9396-e5f136c6c9b9"
      },
      "source": [
        "list_of_numbers = []\n",
        "for num in range(1,11): #remember - 11 will not be included\n",
        "  list_of_numbers.append(num)\n",
        "print(list_of_numbers)"
      ],
      "execution_count": 8,
      "outputs": [
        {
          "output_type": "stream",
          "text": [
            "[1, 2, 3, 4, 5, 6, 7, 8, 9, 10]\n"
          ],
          "name": "stdout"
        }
      ]
    },
    {
      "cell_type": "markdown",
      "metadata": {
        "id": "NyG6TpB_xxKU",
        "colab_type": "text"
      },
      "source": [
        "### Membership operators in Python - in and not in "
      ]
    },
    {
      "cell_type": "code",
      "metadata": {
        "id": "cJuQ4yLUygGH",
        "colab_type": "code",
        "colab": {
          "base_uri": "https://localhost:8080/",
          "height": 34
        },
        "outputId": "c1746ad6-192a-48a7-8974-d5080572ea1c"
      },
      "source": [
        "list_of_programming_languages = [\"Python\", \"C++\", \"Java\", \"R\", \"Kotlin\"]\n",
        "if(\"C\" in list_of_programming_languages):\n",
        "  print(\"C is in given list of programming languages\")\n",
        "\n",
        "if (\"C\" not in list_of_programming_languages):\n",
        "  print(\"C is not in the given list of programming languages\")"
      ],
      "execution_count": 13,
      "outputs": [
        {
          "output_type": "stream",
          "text": [
            "C is not in the given list of programming languages\n"
          ],
          "name": "stdout"
        }
      ]
    },
    {
      "cell_type": "code",
      "metadata": {
        "id": "I0r0gcs4x2wZ",
        "colab_type": "code",
        "colab": {
          "base_uri": "https://localhost:8080/",
          "height": 51
        },
        "outputId": "29cd4351-7ee1-46bd-f939-99f326a3b940"
      },
      "source": [
        "upper_bound = 20\n",
        "lower_bound = 10\n",
        "sample_range = range(10,20)\n",
        "if lower_bound in sample_range:\n",
        "  print(\"Lower bound is included in range in Python\")\n",
        "else:\n",
        "  print(\"Lower bound is not included in range in Python\")\n",
        "\n",
        "if upper_bound in sample_range:\n",
        "  print(\"Upper bound is included in range in Python\")\n",
        "else:\n",
        "  print(\"Upper bound is not included in range in Python\")"
      ],
      "execution_count": 10,
      "outputs": [
        {
          "output_type": "stream",
          "text": [
            "Lower bound is included in range in Python\n",
            "Upper bound is not included in range in Python\n"
          ],
          "name": "stdout"
        }
      ]
    }
  ]
}