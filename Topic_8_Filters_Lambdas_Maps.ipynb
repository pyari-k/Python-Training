{
  "nbformat": 4,
  "nbformat_minor": 0,
  "metadata": {
    "colab": {
      "name": "Filters, Lambdas, Maps.ipynb",
      "provenance": []
    },
    "kernelspec": {
      "name": "python3",
      "display_name": "Python 3"
    }
  },
  "cells": [
    {
      "cell_type": "markdown",
      "metadata": {
        "id": "J5Sxo9fAI0IY"
      },
      "source": [
        "Filter - Built in function on lists \n",
        "* Filters has two arguments - a function and a list.\n",
        "* Filter returns a new iterable or a list. \n",
        "It parses the list in the argument based on the given function. Which ever value returns true from the function, those are added to the resultant. In other words, those that return false are all filtered out.  \n",
        "* syntax - newList = filter(func,oldList)"
      ]
    },
    {
      "cell_type": "code",
      "metadata": {
        "id": "mWtsBe47IxyI"
      },
      "source": [
        "numbers = range(1,11)\n",
        "def isEven(n):\n",
        "  if(n%2 == 0):\n",
        "    return True\n"
      ],
      "execution_count": 40,
      "outputs": []
    },
    {
      "cell_type": "code",
      "metadata": {
        "id": "rVvYkqeRMTBI",
        "outputId": "634618e2-0acc-4b7f-a772-41677b4e6e27",
        "colab": {
          "base_uri": "https://localhost:8080/"
        }
      },
      "source": [
        "even_numbers = filter(isEven,numbers)\n",
        "for number in even_numbers:\n",
        "  print(number)"
      ],
      "execution_count": 41,
      "outputs": [
        {
          "output_type": "stream",
          "text": [
            "2\n",
            "4\n",
            "6\n",
            "8\n",
            "10\n"
          ],
          "name": "stdout"
        }
      ]
    },
    {
      "cell_type": "markdown",
      "metadata": {
        "id": "8_qa9sNbM93k"
      },
      "source": [
        "## Lambda functions\n",
        "* Lambda functions are anonymous functions - they don't need a name like usual functions"
      ]
    },
    {
      "cell_type": "code",
      "metadata": {
        "id": "YiT_1yAMM62A",
        "outputId": "05441ef9-8251-40e4-ebbc-a01e884a7e71",
        "colab": {
          "base_uri": "https://localhost:8080/"
        }
      },
      "source": [
        "def findSquare(n):\n",
        "  return n*n\n",
        "\n",
        "findSquare(4)"
      ],
      "execution_count": 42,
      "outputs": [
        {
          "output_type": "execute_result",
          "data": {
            "text/plain": [
              "16"
            ]
          },
          "metadata": {
            "tags": []
          },
          "execution_count": 42
        }
      ]
    },
    {
      "cell_type": "markdown",
      "metadata": {
        "id": "yQFdiJCSPUID"
      },
      "source": [
        "Let us see how to find the square of a number using lambda functions\n",
        "\n",
        "* syntax - lambda arg: functionOfArgument\n",
        "* eg: lambda n: n*2"
      ]
    },
    {
      "cell_type": "code",
      "metadata": {
        "id": "JdzklrJyOlJS",
        "outputId": "c1e538d2-fa68-4dd4-8e99-77b279b31b82",
        "colab": {
          "base_uri": "https://localhost:8080/"
        }
      },
      "source": [
        "square = lambda x: x*x\n",
        "square(3) "
      ],
      "execution_count": 43,
      "outputs": [
        {
          "output_type": "execute_result",
          "data": {
            "text/plain": [
              "9"
            ]
          },
          "metadata": {
            "tags": []
          },
          "execution_count": 43
        }
      ]
    },
    {
      "cell_type": "code",
      "metadata": {
        "id": "K6uhlikaQxWz",
        "outputId": "25b30ddb-b43e-40b2-8393-aa10542daf5e",
        "colab": {
          "base_uri": "https://localhost:8080/"
        }
      },
      "source": [
        "square_numbers = filter(isEven,numbers)\n",
        "for number in square_numbers:\n",
        "  print(number)"
      ],
      "execution_count": 44,
      "outputs": [
        {
          "output_type": "stream",
          "text": [
            "2\n",
            "4\n",
            "6\n",
            "8\n",
            "10\n"
          ],
          "name": "stdout"
        }
      ]
    },
    {
      "cell_type": "markdown",
      "metadata": {
        "id": "fqriwZU9SWMQ"
      },
      "source": [
        "### Using Lambdas for filters\n",
        "(Note, we do not have to define the function before hand.) "
      ]
    },
    {
      "cell_type": "code",
      "metadata": {
        "id": "NhNqhDbNSdiF",
        "outputId": "c3740379-1f8e-4da9-d997-c821b5226e26",
        "colab": {
          "base_uri": "https://localhost:8080/"
        }
      },
      "source": [
        "age_of_citizens = [50,52,45,62,60,70]\n",
        "senior_citizens = filter(lambda x: x>= 60, age_of_citizens)\n",
        "senior_citizens = [age for age in senior_citizens] \n",
        "senior_citizens"
      ],
      "execution_count": 45,
      "outputs": [
        {
          "output_type": "execute_result",
          "data": {
            "text/plain": [
              "[62, 60, 70]"
            ]
          },
          "metadata": {
            "tags": []
          },
          "execution_count": 45
        }
      ]
    },
    {
      "cell_type": "markdown",
      "metadata": {
        "id": "eKoLSqEpUpa4"
      },
      "source": [
        "### Maps transform a list into another. \n",
        "* Like filter, maps too take a function as an argument. Every element of the list goes through this function. "
      ]
    },
    {
      "cell_type": "code",
      "metadata": {
        "id": "_hE97ckxVPMv"
      },
      "source": [
        "def getFirstNames(name):\n",
        "  splitted_name = name.split(\" \")\n",
        "  return splitted_name[0]"
      ],
      "execution_count": 46,
      "outputs": []
    },
    {
      "cell_type": "code",
      "metadata": {
        "id": "0Eectx5JTEVv",
        "outputId": "867e46c4-4a02-4f28-faf6-07734ff9f3e6",
        "colab": {
          "base_uri": "https://localhost:8080/"
        }
      },
      "source": [
        "names = [\"Yeshwant Kanetkar\", \"Sachin Tendulkar\", \"Virat Kohli\", \"Anushka Sharma\"]\n",
        "first_letters = map(getFirstNames,names)\n",
        "test = [name for name in first_letters]\n",
        "test"
      ],
      "execution_count": 47,
      "outputs": [
        {
          "output_type": "execute_result",
          "data": {
            "text/plain": [
              "['Yeshwant', 'Sachin', 'Virat', 'Anushka']"
            ]
          },
          "metadata": {
            "tags": []
          },
          "execution_count": 47
        }
      ]
    },
    {
      "cell_type": "markdown",
      "metadata": {
        "id": "Is38jToHV-Vg"
      },
      "source": [
        "### Using lambdas on maps to find the string length of names"
      ]
    },
    {
      "cell_type": "code",
      "metadata": {
        "id": "bumm-YyNV9jf"
      },
      "source": [
        "length_of_names = map(lambda full_name: len(full_name),names)"
      ],
      "execution_count": 48,
      "outputs": []
    },
    {
      "cell_type": "code",
      "metadata": {
        "id": "faR8wqzWWa2M",
        "outputId": "c22bb3cc-8d86-4cf1-d341-202cabf62e20",
        "colab": {
          "base_uri": "https://localhost:8080/"
        }
      },
      "source": [
        "length_of_names = [name for name in first_names]\n",
        "length_of_names"
      ],
      "execution_count": 49,
      "outputs": [
        {
          "output_type": "execute_result",
          "data": {
            "text/plain": [
              "[]"
            ]
          },
          "metadata": {
            "tags": []
          },
          "execution_count": 49
        }
      ]
    },
    {
      "cell_type": "markdown",
      "metadata": {
        "id": "Hx2nwUaOXbe_"
      },
      "source": [
        "### Using map to find the first names. \n",
        "* This time, we will use a user defined function"
      ]
    },
    {
      "cell_type": "code",
      "metadata": {
        "id": "AXwhe-GLXavm"
      },
      "source": [
        "def getFirstNames(fullName):\n",
        "  fullName = fullName.split(\" \")\n",
        "  firstName = fullName[0]\n",
        "  return firstName"
      ],
      "execution_count": 50,
      "outputs": []
    },
    {
      "cell_type": "code",
      "metadata": {
        "id": "4BzmKpT-z_hx",
        "outputId": "be5590ad-c264-4141-994a-06acabfdc372",
        "colab": {
          "base_uri": "https://localhost:8080/"
        }
      },
      "source": [
        "first_names = map(getFirstNames,names)\n",
        "for name in first_names:\n",
        "  print(name)"
      ],
      "execution_count": 51,
      "outputs": [
        {
          "output_type": "stream",
          "text": [
            "Yeshwant\n",
            "Sachin\n",
            "Virat\n",
            "Anushka\n"
          ],
          "name": "stdout"
        }
      ]
    }
  ]
}