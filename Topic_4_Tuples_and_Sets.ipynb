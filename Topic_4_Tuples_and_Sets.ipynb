{
  "nbformat": 4,
  "nbformat_minor": 0,
  "metadata": {
    "colab": {
      "name": "Topic 4 - Tuples and Sets.ipynb",
      "provenance": []
    },
    "kernelspec": {
      "name": "python3",
      "display_name": "Python 3"
    }
  },
  "cells": [
    {
      "cell_type": "markdown",
      "metadata": {
        "id": "NOoApqJGosin",
        "colab_type": "text"
      },
      "source": [
        "Latitude and Longitude - stored as tuple"
      ]
    },
    {
      "cell_type": "code",
      "metadata": {
        "id": "u6QSce5Yng3w",
        "colab_type": "code",
        "colab": {
          "base_uri": "https://localhost:8080/",
          "height": 34
        },
        "outputId": "9f63a654-e236-4f39-ef24-958e3452f2ec"
      },
      "source": [
        "lat_long = (12.33, 1.33)\n",
        "latitude = lat_long[0]\n",
        "longitude = lat_long[1]\n",
        "print(\"latitude = {} and longitude = {}\".format(latitude, longitude))"
      ],
      "execution_count": null,
      "outputs": [
        {
          "output_type": "stream",
          "text": [
            "latitude = 12.33 and longitude = 1.33\n"
          ],
          "name": "stdout"
        }
      ]
    },
    {
      "cell_type": "markdown",
      "metadata": {
        "id": "Z4C1K1izozUH",
        "colab_type": "text"
      },
      "source": [
        "Trying to edit a tuple"
      ]
    },
    {
      "cell_type": "code",
      "metadata": {
        "id": "_4mfM2nGo11l",
        "colab_type": "code",
        "colab": {
          "base_uri": "https://localhost:8080/",
          "height": 34
        },
        "outputId": "86af0a5c-b5f5-49bc-b467-26241a0dc85a"
      },
      "source": [
        "#lat_long[0] = 13.11\n",
        "lat_long = (14.11, 3.11)\n",
        "print(\"updated lat_long = {}\".format(lat_long))"
      ],
      "execution_count": null,
      "outputs": [
        {
          "output_type": "stream",
          "text": [
            "updated lat_long = (14.11, 3.11)\n"
          ],
          "name": "stdout"
        }
      ]
    },
    {
      "cell_type": "markdown",
      "metadata": {
        "id": "f-Cy4gp1pVoj",
        "colab_type": "text"
      },
      "source": [
        "Demonstrating unpacking of tuples"
      ]
    },
    {
      "cell_type": "code",
      "metadata": {
        "id": "FmNjjEDvptEn",
        "colab_type": "code",
        "colab": {
          "base_uri": "https://localhost:8080/",
          "height": 68
        },
        "outputId": "5ed650ab-3e12-4305-ccaa-67e97a81c22a"
      },
      "source": [
        "def getTheDimensionsOfABox():\n",
        "  dimensions = (1,2,3)\n",
        "  return dimensions\n",
        "\n",
        "length,breadth,height = getTheDimensionsOfABox()\n",
        "print(\"length = {}\".format(length))\n",
        "print(\"breadth = {}\".format(breadth))\n",
        "print(\"height = {}\".format(height))"
      ],
      "execution_count": null,
      "outputs": [
        {
          "output_type": "stream",
          "text": [
            "length = 1\n",
            "breadth = 2\n",
            "height = 3\n"
          ],
          "name": "stdout"
        }
      ]
    },
    {
      "cell_type": "markdown",
      "metadata": {
        "id": "HugU3ad-smfV",
        "colab_type": "text"
      },
      "source": [
        "# SETS"
      ]
    },
    {
      "cell_type": "code",
      "metadata": {
        "id": "cZodhn72so-h",
        "colab_type": "code",
        "colab": {
          "base_uri": "https://localhost:8080/",
          "height": 34
        },
        "outputId": "fe37dd75-fa5a-4d18-f957-55fd6c78e1de"
      },
      "source": [
        "sample_list = [\"India\", \"China\", \"Nepal\", \"Nepal\", \"Japan\", \"Japan\"]\n",
        "sample_set = set(sample_list)\n",
        "print(sample_set)"
      ],
      "execution_count": null,
      "outputs": [
        {
          "output_type": "stream",
          "text": [
            "{'Nepal', 'China', 'Japan', 'India'}\n"
          ],
          "name": "stdout"
        }
      ]
    },
    {
      "cell_type": "markdown",
      "metadata": {
        "id": "hYB2SHzatgd0",
        "colab_type": "text"
      },
      "source": [
        "Adding an element to a set"
      ]
    },
    {
      "cell_type": "code",
      "metadata": {
        "id": "PhMEMZy8tdn1",
        "colab_type": "code",
        "colab": {
          "base_uri": "https://localhost:8080/",
          "height": 34
        },
        "outputId": "ce78ff6d-4365-48b5-bb85-2856e87bfcdf"
      },
      "source": [
        "sample_set.add(\"Bhutan\")\n",
        "print(sample_set)"
      ],
      "execution_count": null,
      "outputs": [
        {
          "output_type": "stream",
          "text": [
            "{'India', 'Japan', 'Nepal', 'China', 'Bhutan'}\n"
          ],
          "name": "stdout"
        }
      ]
    },
    {
      "cell_type": "markdown",
      "metadata": {
        "id": "rRqA4q4Ot92O",
        "colab_type": "text"
      },
      "source": [
        "Removing an element from a set"
      ]
    },
    {
      "cell_type": "code",
      "metadata": {
        "id": "wfEHCnGWuCZB",
        "colab_type": "code",
        "colab": {
          "base_uri": "https://localhost:8080/",
          "height": 34
        },
        "outputId": "105f7e34-1fd1-4495-c223-8721256274e7"
      },
      "source": [
        "sample_set.pop()\n",
        "print(sample_set)"
      ],
      "execution_count": null,
      "outputs": [
        {
          "output_type": "stream",
          "text": [
            "{'Japan', 'Nepal', 'China', 'Bhutan'}\n"
          ],
          "name": "stdout"
        }
      ]
    },
    {
      "cell_type": "code",
      "metadata": {
        "id": "CnBJS_s4urTw",
        "colab_type": "code",
        "colab": {
          "base_uri": "https://localhost:8080/",
          "height": 34
        },
        "outputId": "a3f793ed-4b79-4477-a81c-26254013f9c9"
      },
      "source": [
        "sample_list = [1,1,2,2,3,4,5]\n",
        "sample_set = set(sample_list)\n",
        "diff_in_size = len(sample_list) - len(sample_set)\n",
        "print(\"The difference between the sizes of the sample_list and sample_set = {}\".format(diff_in_size))"
      ],
      "execution_count": null,
      "outputs": [
        {
          "output_type": "stream",
          "text": [
            "The difference between the sizes of the sample_list and sample_set = 2\n"
          ],
          "name": "stdout"
        }
      ]
    },
    {
      "cell_type": "markdown",
      "metadata": {
        "id": "MqQX09hnAdDW",
        "colab_type": "text"
      },
      "source": [
        "## Union of sets"
      ]
    },
    {
      "cell_type": "code",
      "metadata": {
        "id": "uUQzyHtV89_w",
        "colab_type": "code",
        "colab": {
          "base_uri": "https://localhost:8080/",
          "height": 34
        },
        "outputId": "65505285-d887-4cbf-dca3-d6b6d4a65a15"
      },
      "source": [
        "numbers = [1,1,2,3,4]\n",
        "set_of_numbers = set(numbers)\n",
        "numbers_2 = [3,4,5,6,7]\n",
        "set_of_numbers_2 = set(numbers_2)\n",
        "numbers_3 = [8,9,10]\n",
        "set_of_numbers_3 = set(numbers_3)\n",
        "\n",
        "new_set = set_of_numbers.union(set_of_numbers_2, set_of_numbers_3)\n",
        "print(new_set)\n",
        "\n"
      ],
      "execution_count": null,
      "outputs": [
        {
          "output_type": "stream",
          "text": [
            "{1, 2, 3, 4, 5, 6, 7, 8, 9, 10}\n"
          ],
          "name": "stdout"
        }
      ]
    },
    {
      "cell_type": "markdown",
      "metadata": {
        "id": "_TPkqMNtAgPZ",
        "colab_type": "text"
      },
      "source": [
        "## Intersection of sets"
      ]
    },
    {
      "cell_type": "code",
      "metadata": {
        "id": "ocFLNuigAYsQ",
        "colab_type": "code",
        "colab": {
          "base_uri": "https://localhost:8080/",
          "height": 34
        },
        "outputId": "68e10421-351c-4497-83ab-5665d0256d5d"
      },
      "source": [
        "list_one = [1,2,3,4,5]\n",
        "set_one = set(list_one)\n",
        "\n",
        "list_two = [6,7,8,9, 10,1]\n",
        "set_two = set(list_two)\n",
        "\n",
        "list_three = [11,12,13,14,15,1]\n",
        "set_three = set(list_three)\n",
        "result = set_one.intersection(set_two,set_three)\n",
        "print(result)"
      ],
      "execution_count": null,
      "outputs": [
        {
          "output_type": "stream",
          "text": [
            "{1}\n"
          ],
          "name": "stdout"
        }
      ]
    },
    {
      "cell_type": "markdown",
      "metadata": {
        "id": "lN4W5rmcCG6u",
        "colab_type": "text"
      },
      "source": [
        "## Set constructor without using lists"
      ]
    },
    {
      "cell_type": "code",
      "metadata": {
        "id": "CM14JpxQCKcg",
        "colab_type": "code",
        "colab": {
          "base_uri": "https://localhost:8080/",
          "height": 34
        },
        "outputId": "450aa8a5-5ec6-4396-f7c7-ba703f5bff0a"
      },
      "source": [
        "test_set = set((\"one\", \"two\", \"three\", \"four\", \"four\", \"four\"))\n",
        "print(test_set)"
      ],
      "execution_count": null,
      "outputs": [
        {
          "output_type": "stream",
          "text": [
            "{'four', 'one', 'two', 'three'}\n"
          ],
          "name": "stdout"
        }
      ]
    },
    {
      "cell_type": "markdown",
      "metadata": {
        "id": "tFyxTZBdGOI1",
        "colab_type": "text"
      },
      "source": [
        "## Difference between sets"
      ]
    },
    {
      "cell_type": "code",
      "metadata": {
        "id": "iTLnk9ErGSTP",
        "colab_type": "code",
        "colab": {
          "base_uri": "https://localhost:8080/",
          "height": 51
        },
        "outputId": "42e1c8e4-6b49-448e-a82c-8a8aaa5dbdf5"
      },
      "source": [
        "list_one = [\"kerala\", \"karnataka\", \"tamil nadu\", \"andra\"]\n",
        "list_two = [\"kerala\", \"karnataka\", \"tamil nadu\", \"telangana\"]\n",
        "set_one = set(list_one)\n",
        "set_two = set(list_two)\n",
        "\n",
        "one_diff_two = set_one.difference(set_two)\n",
        "print(\"one diff two = {}\".format(one_diff_two))\n",
        "\n",
        "two_diff_one = set_two.difference(set_one)\n",
        "print(\"two diff one = {}\".format(two_diff_one))\n"
      ],
      "execution_count": null,
      "outputs": [
        {
          "output_type": "stream",
          "text": [
            "one diff two = {'andra'}\n",
            "two diff one = {'telangana'}\n"
          ],
          "name": "stdout"
        }
      ]
    },
    {
      "cell_type": "code",
      "metadata": {
        "id": "Qsk30EZtHtvh",
        "colab_type": "code",
        "colab": {
          "base_uri": "https://localhost:8080/",
          "height": 34
        },
        "outputId": "b0630726-6245-4a5c-ab0d-c91d9442ff60"
      },
      "source": [
        "What_am_i = (\"what\", \"am\", \"i\")\n",
        "tuple_or_set = type(What_am_i)\n",
        "print(\"Am I a tuple or a set? - I am a {} \".format(tuple_or_set))\n"
      ],
      "execution_count": null,
      "outputs": [
        {
          "output_type": "stream",
          "text": [
            "Am I a tuple or a set? - I am a <class 'tuple'> \n"
          ],
          "name": "stdout"
        }
      ]
    },
    {
      "cell_type": "code",
      "metadata": {
        "id": "yZ0DqvewIPOT",
        "colab_type": "code",
        "colab": {
          "base_uri": "https://localhost:8080/",
          "height": 34
        },
        "outputId": "484e29ef-4598-45de-8bd4-cc5b68926e61"
      },
      "source": [
        "What_am_i = set(What_am_i)\n",
        "type(What_am_i)\n"
      ],
      "execution_count": null,
      "outputs": [
        {
          "output_type": "execute_result",
          "data": {
            "text/plain": [
              "set"
            ]
          },
          "metadata": {
            "tags": []
          },
          "execution_count": 49
        }
      ]
    }
  ]
}