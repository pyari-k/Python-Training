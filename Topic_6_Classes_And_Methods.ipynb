{
  "nbformat": 4,
  "nbformat_minor": 0,
  "metadata": {
    "colab": {
      "name": "Classes_And_Methods.ipynb",
      "provenance": []
    },
    "kernelspec": {
      "name": "python3",
      "display_name": "Python 3"
    }
  },
  "cells": [
    {
      "cell_type": "code",
      "metadata": {
        "id": "J43oFu4MUFxi",
        "colab_type": "code",
        "colab": {
          "base_uri": "https://localhost:8080/",
          "height": 34
        },
        "outputId": "14becc13-03a8-443e-b733-4d6397eecca7"
      },
      "source": [
        "class employee:\n",
        "  def __init__(self,id,name,gender,dept):\n",
        "    self.id = id\n",
        "    self.name = name\n",
        "    self.gender = gender\n",
        "    self.dept = dept\n",
        "\n",
        "  def is_developer(self):\n",
        "    retVal = False\n",
        "    if(self.dept == \"IT\"):\n",
        "      retVal = True\n",
        "    return retVal\n",
        "  \n",
        "employee1 = employee(1,'sushma','female','IT')\n",
        "employee1.is_developer()\n",
        "print(\"Is {} a developer: {}\".format(employee1.name, employee1.is_developer()))"
      ],
      "execution_count": 2,
      "outputs": [
        {
          "output_type": "stream",
          "text": [
            "Is sushma a developer: True\n"
          ],
          "name": "stdout"
        }
      ]
    }
  ]
}