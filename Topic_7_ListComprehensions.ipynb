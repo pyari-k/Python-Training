{
  "nbformat": 4,
  "nbformat_minor": 0,
  "metadata": {
    "colab": {
      "name": "Topic_7_ListComprehensions.ipynb",
      "provenance": []
    },
    "kernelspec": {
      "name": "python3",
      "display_name": "Python 3"
    }
  },
  "cells": [
    {
      "cell_type": "markdown",
      "metadata": {
        "id": "SkFEAyQK92fB"
      },
      "source": [
        "### List Comprehensions makes the code for looping over a list much simpler. \n",
        "* The below list can be made much simpler with list comprehensions"
      ]
    },
    {
      "cell_type": "code",
      "metadata": {
        "id": "vvhqIVgp9xL2",
        "outputId": "60ce58af-364c-4cb0-9035-de4e9d386e3c",
        "colab": {
          "base_uri": "https://localhost:8080/"
        }
      },
      "source": [
        "list_of_fruits = [\"apple\",\"mango\",\"pineapple\",\"grapes\",\"strawberry\"]\n",
        "for fruit in list_of_fruits: \n",
        "  print(fruit)"
      ],
      "execution_count": 2,
      "outputs": [
        {
          "output_type": "stream",
          "text": [
            "apple\n",
            "mango\n",
            "pineapple\n",
            "grapes\n",
            "strawberry\n"
          ],
          "name": "stdout"
        }
      ]
    },
    {
      "cell_type": "markdown",
      "metadata": {
        "id": "ryZC9QMo-gMM"
      },
      "source": [
        "## Syntax for list comprehension\n",
        "* [expression for item in list]"
      ]
    },
    {
      "cell_type": "code",
      "metadata": {
        "id": "xwumIjY4-dxH",
        "outputId": "c51b3c25-c71a-455e-8faa-e7b1e821be50",
        "colab": {
          "base_uri": "https://localhost:8080/"
        }
      },
      "source": [
        "temp_list_of_fruits = [fruit for fruit in list_of_fruits]\n",
        "temp_list_of_fruits"
      ],
      "execution_count": 6,
      "outputs": [
        {
          "output_type": "execute_result",
          "data": {
            "text/plain": [
              "['apple', 'mango', 'pineapple', 'grapes', 'strawberry']"
            ]
          },
          "metadata": {
            "tags": []
          },
          "execution_count": 6
        }
      ]
    },
    {
      "cell_type": "code",
      "metadata": {
        "id": "FerweEFI_BHw",
        "outputId": "07a73f1c-d35b-43a3-8f7a-d1b163c7b416",
        "colab": {
          "base_uri": "https://localhost:8080/"
        }
      },
      "source": [
        "list_of_fruits_upper_case = [fruit.upper() for fruit in list_of_fruits]\n",
        "list_of_fruits_upper_case"
      ],
      "execution_count": 8,
      "outputs": [
        {
          "output_type": "execute_result",
          "data": {
            "text/plain": [
              "['APPLE', 'MANGO', 'PINEAPPLE', 'GRAPES', 'STRAWBERRY']"
            ]
          },
          "metadata": {
            "tags": []
          },
          "execution_count": 8
        }
      ]
    },
    {
      "cell_type": "markdown",
      "metadata": {
        "id": "0-JfeU-o_Rai"
      },
      "source": [
        "## Syntax for list comprehension with condition\n",
        "* [expression for item in list if condition]"
      ]
    },
    {
      "cell_type": "code",
      "metadata": {
        "id": "iGj_qI1W_hoO",
        "outputId": "97505dab-8515-4fc8-a907-e789cdfd673b",
        "colab": {
          "base_uri": "https://localhost:8080/"
        }
      },
      "source": [
        "list_of_numbers = [1,2,3,4,5,6,7,8,9,10]\n",
        "even_numbers = [number for number in list_of_numbers if (number%2 == 0)]\n",
        "even_numbers"
      ],
      "execution_count": 9,
      "outputs": [
        {
          "output_type": "execute_result",
          "data": {
            "text/plain": [
              "[2, 4, 6, 8, 10]"
            ]
          },
          "metadata": {
            "tags": []
          },
          "execution_count": 9
        }
      ]
    },
    {
      "cell_type": "markdown",
      "metadata": {
        "id": "-Rw18lG-AEpk"
      },
      "source": [
        "### Syntax for list comprehension with if else\n",
        "* [expression if expression else for item in list]\n",
        "* Remember the bus game? 1,2,3,4, bus, 6,7,8,9,bus (We are going to generate that)"
      ]
    },
    {
      "cell_type": "code",
      "metadata": {
        "id": "kvJX_dgCA5KO",
        "outputId": "4507f085-2b95-43c3-8264-0c634576e3c9",
        "colab": {
          "base_uri": "https://localhost:8080/"
        }
      },
      "source": [
        "one_to_fifty = range(1,51) \n",
        "bus_game_result = [\"Bus\" if number%5 == 0 else number for number in one_to_fifty]\n",
        "bus_game_result  "
      ],
      "execution_count": 15,
      "outputs": [
        {
          "output_type": "execute_result",
          "data": {
            "text/plain": [
              "[1,\n",
              " 2,\n",
              " 3,\n",
              " 4,\n",
              " 'Bus',\n",
              " 6,\n",
              " 7,\n",
              " 8,\n",
              " 9,\n",
              " 'Bus',\n",
              " 11,\n",
              " 12,\n",
              " 13,\n",
              " 14,\n",
              " 'Bus',\n",
              " 16,\n",
              " 17,\n",
              " 18,\n",
              " 19,\n",
              " 'Bus',\n",
              " 21,\n",
              " 22,\n",
              " 23,\n",
              " 24,\n",
              " 'Bus',\n",
              " 26,\n",
              " 27,\n",
              " 28,\n",
              " 29,\n",
              " 'Bus',\n",
              " 31,\n",
              " 32,\n",
              " 33,\n",
              " 34,\n",
              " 'Bus',\n",
              " 36,\n",
              " 37,\n",
              " 38,\n",
              " 39,\n",
              " 'Bus',\n",
              " 41,\n",
              " 42,\n",
              " 43,\n",
              " 44,\n",
              " 'Bus',\n",
              " 46,\n",
              " 47,\n",
              " 48,\n",
              " 49,\n",
              " 'Bus']"
            ]
          },
          "metadata": {
            "tags": []
          },
          "execution_count": 15
        }
      ]
    },
    {
      "cell_type": "code",
      "metadata": {
        "id": "nFuyxd7BAstk"
      },
      "source": [
        ""
      ],
      "execution_count": null,
      "outputs": []
    }
  ]
}