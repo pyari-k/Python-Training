{
  "nbformat": 4,
  "nbformat_minor": 0,
  "metadata": {
    "colab": {
      "name": "Topic_5_a_Dictionaries.ipynb",
      "provenance": []
    },
    "kernelspec": {
      "name": "python3",
      "display_name": "Python 3"
    }
  },
  "cells": [
    {
      "cell_type": "markdown",
      "metadata": {
        "id": "iGISQkqbnpXr",
        "colab_type": "text"
      },
      "source": [
        "### Dictionaries - Key value pairs"
      ]
    },
    {
      "cell_type": "code",
      "metadata": {
        "id": "9YYV1PARnYiT",
        "colab_type": "code",
        "colab": {
          "base_uri": "https://localhost:8080/",
          "height": 34
        },
        "outputId": "6111b8d1-0224-41f8-8d30-eecce42a4537"
      },
      "source": [
        "elements = {'Hydrogen':1, \n",
        "            'Helium': 2, \n",
        "            'Lithium': 3,\n",
        "            'Beryllium':4,\n",
        "            'Carbon':6\n",
        "} \n",
        "\n",
        "print(\"The element number for carbon is: {}\".format(elements['Carbon']))\n"
      ],
      "execution_count": 3,
      "outputs": [
        {
          "output_type": "stream",
          "text": [
            "The element number for carbon is: 6\n"
          ],
          "name": "stdout"
        }
      ]
    },
    {
      "cell_type": "code",
      "metadata": {
        "id": "PmcZUL-NopSj",
        "colab_type": "code",
        "colab": {
          "base_uri": "https://localhost:8080/",
          "height": 34
        },
        "outputId": "e8e43976-c76f-4b21-bed1-97bf4f28165d"
      },
      "source": [
        "test_element_1 = \"Lithium\"\n",
        "test_element_number = elements[test_element_1]\n",
        "print(\"element number for Lithium = {}\".format(test_element_number))"
      ],
      "execution_count": 4,
      "outputs": [
        {
          "output_type": "stream",
          "text": [
            "element number for Lithium = 3\n"
          ],
          "name": "stdout"
        }
      ]
    },
    {
      "cell_type": "code",
      "metadata": {
        "id": "I81H1rFVo8v5",
        "colab_type": "code",
        "colab": {
          "base_uri": "https://localhost:8080/",
          "height": 34
        },
        "outputId": "fbac3014-c419-4b2d-9be5-a0ef9a4f40c2"
      },
      "source": [
        "test_element_2 = \"Lithium\"\n",
        "test_element_number = elements.get(\"Lithium\")\n",
        "print(\"element number for Lithium = {}\".format(test_element_number))"
      ],
      "execution_count": 5,
      "outputs": [
        {
          "output_type": "stream",
          "text": [
            "element number for Lithium = 3\n"
          ],
          "name": "stdout"
        }
      ]
    },
    {
      "cell_type": "markdown",
      "metadata": {
        "id": "aj0Xbp4CpMDv",
        "colab_type": "text"
      },
      "source": [
        "### Use get, when we are not sure whether the key exists. Else it might throw an error"
      ]
    },
    {
      "cell_type": "code",
      "metadata": {
        "id": "EwvYrRj7pHwq",
        "colab_type": "code",
        "colab": {
          "base_uri": "https://localhost:8080/",
          "height": 34
        },
        "outputId": "8e787027-a30e-42fb-d16b-1d264bee42ac"
      },
      "source": [
        "test_element_2 = \"Gold\"\n",
        "test_element_number = elements.get(\"Gold\")\n",
        "print(\"element number for Gold = {}\".format(test_element_number))"
      ],
      "execution_count": 6,
      "outputs": [
        {
          "output_type": "stream",
          "text": [
            "element number for Gold = None\n"
          ],
          "name": "stdout"
        }
      ]
    },
    {
      "cell_type": "markdown",
      "metadata": {
        "id": "ZatQARS0po7e",
        "colab_type": "text"
      },
      "source": [
        "### The below will through a key error since the key Gold is not there in the dictionary"
      ]
    },
    {
      "cell_type": "code",
      "metadata": {
        "id": "ZFrEa-kppe6d",
        "colab_type": "code",
        "colab": {}
      },
      "source": [
        "#test_element_2 = \"Gold\"\n",
        "#test_element_number = elements[\"Gold\"]\n",
        "#print(\"element number for Gold = {}\".format(test_element_number))"
      ],
      "execution_count": 8,
      "outputs": []
    }
  ]
}