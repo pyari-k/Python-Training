{
  "nbformat": 4,
  "nbformat_minor": 0,
  "metadata": {
    "colab": {
      "name": "Topic_1.ipynb",
      "provenance": [],
      "authorship_tag": "ABX9TyMAaR85HG9IV2ILiD4xcD1c",
      "include_colab_link": true
    },
    "kernelspec": {
      "name": "python3",
      "display_name": "Python 3"
    }
  },
  "cells": [
    {
      "cell_type": "markdown",
      "metadata": {
        "id": "view-in-github",
        "colab_type": "text"
      },
      "source": [
        "<a href=\"https://colab.research.google.com/github/pyarisinghk/Python-Training/blob/master/Topic_1_Python_Basics.ipynb\" target=\"_parent\"><img src=\"https://colab.research.google.com/assets/colab-badge.svg\" alt=\"Open In Colab\"/></a>"
      ]
    },
    {
      "cell_type": "markdown",
      "metadata": {
        "id": "7tFP6vdhs_NM",
        "colab_type": "text"
      },
      "source": [
        "### Data Types - Basic"
      ]
    },
    {
      "cell_type": "code",
      "metadata": {
        "id": "GateSMO5sbXF",
        "colab_type": "code",
        "colab": {
          "base_uri": "https://localhost:8080/",
          "height": 34
        },
        "outputId": "94681668-ca91-4d97-863f-2ae375c31ff0"
      },
      "source": [
        "type(1)"
      ],
      "execution_count": null,
      "outputs": [
        {
          "output_type": "execute_result",
          "data": {
            "text/plain": [
              "int"
            ]
          },
          "metadata": {
            "tags": []
          },
          "execution_count": 1
        }
      ]
    },
    {
      "cell_type": "code",
      "metadata": {
        "id": "86QXe39itNnR",
        "colab_type": "code",
        "colab": {
          "base_uri": "https://localhost:8080/",
          "height": 34
        },
        "outputId": "0f185506-fd58-4d8a-8901-d712944ed168"
      },
      "source": [
        "type(1.2)"
      ],
      "execution_count": null,
      "outputs": [
        {
          "output_type": "execute_result",
          "data": {
            "text/plain": [
              "float"
            ]
          },
          "metadata": {
            "tags": []
          },
          "execution_count": 2
        }
      ]
    },
    {
      "cell_type": "code",
      "metadata": {
        "id": "FvfO6yR1tQDC",
        "colab_type": "code",
        "colab": {
          "base_uri": "https://localhost:8080/",
          "height": 34
        },
        "outputId": "e7bef745-b644-4fc6-c4e1-7d112f602953"
      },
      "source": [
        "type('a')"
      ],
      "execution_count": null,
      "outputs": [
        {
          "output_type": "execute_result",
          "data": {
            "text/plain": [
              "str"
            ]
          },
          "metadata": {
            "tags": []
          },
          "execution_count": 3
        }
      ]
    },
    {
      "cell_type": "code",
      "metadata": {
        "id": "nYfbB6nCtSIB",
        "colab_type": "code",
        "colab": {
          "base_uri": "https://localhost:8080/",
          "height": 34
        },
        "outputId": "b70737d1-4078-46f3-842e-582cc30f1edd"
      },
      "source": [
        "type(\"hello world\")"
      ],
      "execution_count": null,
      "outputs": [
        {
          "output_type": "execute_result",
          "data": {
            "text/plain": [
              "str"
            ]
          },
          "metadata": {
            "tags": []
          },
          "execution_count": 4
        }
      ]
    },
    {
      "cell_type": "code",
      "metadata": {
        "id": "7bq7Ca44tUK5",
        "colab_type": "code",
        "colab": {
          "base_uri": "https://localhost:8080/",
          "height": 34
        },
        "outputId": "f17822b5-967f-439b-f531-e1e850cae02a"
      },
      "source": [
        "type(False)"
      ],
      "execution_count": null,
      "outputs": [
        {
          "output_type": "execute_result",
          "data": {
            "text/plain": [
              "bool"
            ]
          },
          "metadata": {
            "tags": []
          },
          "execution_count": 5
        }
      ]
    },
    {
      "cell_type": "markdown",
      "metadata": {
        "id": "Uapxf2BOtYo5",
        "colab_type": "text"
      },
      "source": [
        "### Data Structures - Types\n",
        "\n",
        "### List -  mutable and ordered data structure"
      ]
    },
    {
      "cell_type": "code",
      "metadata": {
        "id": "12yaAcwvtc9c",
        "colab_type": "code",
        "colab": {
          "base_uri": "https://localhost:8080/",
          "height": 34
        },
        "outputId": "f5a98843-5c0f-43c0-e9ad-df5a487fcf73"
      },
      "source": [
        "list_of_fruits = [\"apple\", \"mango\", \"jack fruit\", \"pineapple\", \"grapes\"]\n",
        "type(list_of_fruits)"
      ],
      "execution_count": null,
      "outputs": [
        {
          "output_type": "execute_result",
          "data": {
            "text/plain": [
              "list"
            ]
          },
          "metadata": {
            "tags": []
          },
          "execution_count": 7
        }
      ]
    },
    {
      "cell_type": "markdown",
      "metadata": {
        "id": "1B0_3vPHuRol",
        "colab_type": "text"
      },
      "source": [
        "### Tuple - ordered but not mutable"
      ]
    },
    {
      "cell_type": "code",
      "metadata": {
        "id": "eBdUkeFBtqO4",
        "colab_type": "code",
        "colab": {
          "base_uri": "https://localhost:8080/",
          "height": 34
        },
        "outputId": "05d8a5bb-caf7-4ea0-b039-e31541a3c6b3"
      },
      "source": [
        "tuple_dimensions_of_a_box = (1,2,3)\n",
        "type(tuple_dimensions_of_a_box)"
      ],
      "execution_count": null,
      "outputs": [
        {
          "output_type": "execute_result",
          "data": {
            "text/plain": [
              "tuple"
            ]
          },
          "metadata": {
            "tags": []
          },
          "execution_count": 8
        }
      ]
    },
    {
      "cell_type": "code",
      "metadata": {
        "id": "5K13GoOxuMsY",
        "colab_type": "code",
        "colab": {
          "base_uri": "https://localhost:8080/",
          "height": 34
        },
        "outputId": "5de5f313-aea5-4c3e-f3cb-982d850a50f6"
      },
      "source": [
        "tuple_latitude_longitude = (11.12, 12.33)\n",
        "type(tuple_latitude_longitude)"
      ],
      "execution_count": null,
      "outputs": [
        {
          "output_type": "execute_result",
          "data": {
            "text/plain": [
              "tuple"
            ]
          },
          "metadata": {
            "tags": []
          },
          "execution_count": 9
        }
      ]
    },
    {
      "cell_type": "markdown",
      "metadata": {
        "id": "xXAnKpDuvEv0",
        "colab_type": "text"
      },
      "source": [
        "### Sets -  Unordered and mutable, holds only unique elements"
      ]
    },
    {
      "cell_type": "code",
      "metadata": {
        "id": "N3fGLdDjvIsy",
        "colab_type": "code",
        "colab": {
          "base_uri": "https://localhost:8080/",
          "height": 34
        },
        "outputId": "f3361033-5fab-4990-a8df-1363ff18b635"
      },
      "source": [
        "list_of_countries =  [\"India\", \"India\", \"China\", \"Nepal\", \"Pakistan\", \"Pakistan\"]\n",
        "set_of_countries = set(list_of_countries)\n",
        "type(set_of_countries)"
      ],
      "execution_count": null,
      "outputs": [
        {
          "output_type": "execute_result",
          "data": {
            "text/plain": [
              "set"
            ]
          },
          "metadata": {
            "tags": []
          },
          "execution_count": 10
        }
      ]
    },
    {
      "cell_type": "markdown",
      "metadata": {
        "id": "FfdU-WclviEc",
        "colab_type": "text"
      },
      "source": [
        "### Dictionaries - Key Value Pairs"
      ]
    },
    {
      "cell_type": "code",
      "metadata": {
        "id": "WJtPwHEOvkrq",
        "colab_type": "code",
        "colab": {
          "base_uri": "https://localhost:8080/",
          "height": 34
        },
        "outputId": "63e6487b-64e4-4340-ebfd-4de36bf9b43f"
      },
      "source": [
        "student_details = {'GPS_1': \"Priya\",\n",
        "\"GPS_2\":\"Reena\",\n",
        "\"GPS_3\": 'Latha',\n",
        "\"GPS_4\":'Ankita',\n",
        "\"GPS_5\": 'Nikil', \n",
        "1: 'Gayathri', \n",
        "2: 'Ahaan'\n",
        "}\n",
        "type(student_details)"
      ],
      "execution_count": null,
      "outputs": [
        {
          "output_type": "execute_result",
          "data": {
            "text/plain": [
              "dict"
            ]
          },
          "metadata": {
            "tags": []
          },
          "execution_count": 16
        }
      ]
    },
    {
      "cell_type": "markdown",
      "metadata": {
        "id": "TRqyRoEGxNuI",
        "colab_type": "text"
      },
      "source": [
        "### Strings and some methods"
      ]
    },
    {
      "cell_type": "code",
      "metadata": {
        "id": "_11_JUJEyHnR",
        "colab_type": "code",
        "colab": {
          "base_uri": "https://localhost:8080/",
          "height": 119
        },
        "outputId": "50b32ccb-2962-4caf-cfee-0f42af67f8b3"
      },
      "source": [
        "sample_string = \"some string\"\n",
        "print(\"Sample string = {}\".format(sample_string))\n",
        "\n",
        "print(\"Sample string in upper case = {}\".format(sample_string.upper()))\n",
        "\n",
        "print(\"Is sample string in lower case = {}\".format(sample_string.islower()))\n",
        "\n",
        "print(\"The sample string has {} Ss\".format(sample_string.count('s')))\n",
        "\n",
        "print(\"The first occurance of s in the sample string is at the position {}\".format(sample_string.find('s')))\n",
        "\n",
        "print(\"The first occurance of t in the sample string is at the position {}\".format(sample_string.find('t')))"
      ],
      "execution_count": null,
      "outputs": [
        {
          "output_type": "stream",
          "text": [
            "Sample string = some string\n",
            "Sample string in upper case = SOME STRING\n",
            "Is sample string in lower case = True\n",
            "The sample string has 2 Ss\n",
            "The first occurance of s in the sample string is at the position 0\n",
            "The first occurance of t in the sample string is at the position 6\n"
          ],
          "name": "stdout"
        }
      ]
    },
    {
      "cell_type": "code",
      "metadata": {
        "id": "SR-Ak3GQzq2T",
        "colab_type": "code",
        "colab": {
          "base_uri": "https://localhost:8080/",
          "height": 119
        },
        "outputId": "aab6c41b-b0a7-4af5-93e5-355c02248192"
      },
      "source": [
        "string_int = '6'\n",
        "string_non_int = \"pyari\"\n",
        "\n",
        "print(\"string_int = {}\".format(string_int))\n",
        "print(\"string_non_int = {}\".format(string_non_int))\n",
        "\n",
        "print(\"string_int = {}. This is a digit - {}\".format(string_int,string_int.isdigit()))\n",
        "print(\"string_non_int = {}. This is a digit - {}\".format(string_non_int,string_non_int.isdigit()))\n",
        "\n",
        "seven = 7\n",
        "thirteen = seven + int(string_int)\n",
        "print(\"adding 7 with string value of 6 = {}\".format(thirteen))\n",
        "\n",
        "length_of_sample_string = len(sample_string)\n",
        "print(\"Length  of  sample string = {}\".format(length_of_sample_string))"
      ],
      "execution_count": null,
      "outputs": [
        {
          "output_type": "stream",
          "text": [
            "string_int = 6\n",
            "string_non_int = pyari\n",
            "string_int = 6. This is a digit - True\n",
            "string_non_int = pyari. This is a digit - False\n",
            "adding 7 with string value of 6 = 13\n",
            "Length  of  sample string = 11\n"
          ],
          "name": "stdout"
        }
      ]
    },
    {
      "cell_type": "code",
      "metadata": {
        "id": "23lWlAJG1h38",
        "colab_type": "code",
        "colab": {
          "base_uri": "https://localhost:8080/",
          "height": 34
        },
        "outputId": "82b2b049-27d1-49e2-9377-a244d8ae9342"
      },
      "source": [
        "test_string = \"I am learning Python for data analysis\"\n",
        "test_string.split()"
      ],
      "execution_count": null,
      "outputs": [
        {
          "output_type": "execute_result",
          "data": {
            "text/plain": [
              "['I', 'am', 'learning', 'Python', 'for', 'data', 'analysis']"
            ]
          },
          "metadata": {
            "tags": []
          },
          "execution_count": 33
        }
      ]
    },
    {
      "cell_type": "code",
      "metadata": {
        "id": "SZ3cwH5R139j",
        "colab_type": "code",
        "colab": {
          "base_uri": "https://localhost:8080/",
          "height": 68
        },
        "outputId": "eea31daa-9f52-4b55-8e37-46404ec74a02"
      },
      "source": [
        "two_sentences = \"Hello, here are two sentences. Let us try to split it with a full stop as the separator\"\n",
        "two_sentences = two_sentences.split(\".\")\n",
        "print(two_sentences)\n",
        "sentence_one = two_sentences[0]\n",
        "sentence_two = two_sentences[1]\n",
        "\n",
        "print(\"sentence one = {}\".format(sentence_one))\n",
        "print(\"sentence_two = {}\".format(sentence_two))"
      ],
      "execution_count": null,
      "outputs": [
        {
          "output_type": "stream",
          "text": [
            "['Hello, here are two sentences', ' Let us try to split it with a full stop as the separator']\n",
            "sentence one = Hello, here are two sentences\n",
            "sentence_two =  Let us try to split it with a full stop as the separator\n"
          ],
          "name": "stdout"
        }
      ]
    },
    {
      "cell_type": "code",
      "metadata": {
        "id": "WgauYm-82rxz",
        "colab_type": "code",
        "colab": {
          "base_uri": "https://localhost:8080/",
          "height": 34
        },
        "outputId": "89a08592-9a13-4406-99ac-8f0c54df5535"
      },
      "source": [
        "long_sentence = \"Here is a long sentence. I am going to split it into 4. Let us see how it goes\"\n",
        "long_sentence_cut_list = long_sentence.split(\" \",3)\n",
        "print(long_sentence_cut_list)"
      ],
      "execution_count": null,
      "outputs": [
        {
          "output_type": "stream",
          "text": [
            "['Here', 'is', 'a', 'long sentence. I am going to split it into 4. Let us see how it goes']\n"
          ],
          "name": "stdout"
        }
      ]
    },
    {
      "cell_type": "code",
      "metadata": {
        "id": "dcMkNJQL3KBx",
        "colab_type": "code",
        "colab": {
          "base_uri": "https://localhost:8080/",
          "height": 34
        },
        "outputId": "9731bbab-32e8-4cf1-b829-79a431b6b582"
      },
      "source": [
        "long_sentence = \"Here is a long sentence again. I am going to split it into 4, but this time without separators. Let us see how it goes\"\n",
        "long_sentence_cut_list = long_sentence.split(None,3)\n",
        "print(long_sentence_cut_list)"
      ],
      "execution_count": null,
      "outputs": [
        {
          "output_type": "stream",
          "text": [
            "['Here', 'is', 'a', 'long sentence again. I am going to split it into 4, but this time without separators. Let us see how it goes']\n"
          ],
          "name": "stdout"
        }
      ]
    },
    {
      "cell_type": "code",
      "metadata": {
        "id": "tVYM_ZRP4NX2",
        "colab_type": "code",
        "colab": {
          "base_uri": "https://localhost:8080/",
          "height": 35
        },
        "outputId": "555c136f-ca09-4432-ee07-39e6c55fff19"
      },
      "source": [
        "string_sample = \"My name is Pyari\"\n",
        "first_two_letters = string_sample[:2]\n",
        "first_two_letters"
      ],
      "execution_count": null,
      "outputs": [
        {
          "output_type": "execute_result",
          "data": {
            "application/vnd.google.colaboratory.intrinsic": {
              "type": "string"
            },
            "text/plain": [
              "'My'"
            ]
          },
          "metadata": {
            "tags": []
          },
          "execution_count": 55
        }
      ]
    },
    {
      "cell_type": "code",
      "metadata": {
        "id": "hdvtRv274Z6U",
        "colab_type": "code",
        "colab": {
          "base_uri": "https://localhost:8080/",
          "height": 35
        },
        "outputId": "57bdaa3b-6b29-44ae-8f9b-4831aa1daa2e"
      },
      "source": [
        "last_five_letters = string_sample[-5:]\n",
        "last_five_letters"
      ],
      "execution_count": null,
      "outputs": [
        {
          "output_type": "execute_result",
          "data": {
            "application/vnd.google.colaboratory.intrinsic": {
              "type": "string"
            },
            "text/plain": [
              "'Pyari'"
            ]
          },
          "metadata": {
            "tags": []
          },
          "execution_count": 54
        }
      ]
    },
    {
      "cell_type": "code",
      "metadata": {
        "id": "7ZgCFWMs5LxL",
        "colab_type": "code",
        "colab": {
          "base_uri": "https://localhost:8080/",
          "height": 35
        },
        "outputId": "5790d46f-91d8-46bc-89da-a75fdc50b6c4"
      },
      "source": [
        "three_to_five = string_sample[3:7]\n",
        "three_to_five"
      ],
      "execution_count": null,
      "outputs": [
        {
          "output_type": "execute_result",
          "data": {
            "application/vnd.google.colaboratory.intrinsic": {
              "type": "string"
            },
            "text/plain": [
              "'name'"
            ]
          },
          "metadata": {
            "tags": []
          },
          "execution_count": 57
        }
      ]
    },
    {
      "cell_type": "code",
      "metadata": {
        "id": "g6lEPumU5buW",
        "colab_type": "code",
        "colab": {
          "base_uri": "https://localhost:8080/",
          "height": 35
        },
        "outputId": "e0c91081-a24b-4d88-ae31-98d4ea0fe375"
      },
      "source": [
        "one_more = string_sample[-8:-6] #range is always from start to end. last value is not included as well\n",
        "one_more"
      ],
      "execution_count": null,
      "outputs": [
        {
          "output_type": "execute_result",
          "data": {
            "application/vnd.google.colaboratory.intrinsic": {
              "type": "string"
            },
            "text/plain": [
              "'is'"
            ]
          },
          "metadata": {
            "tags": []
          },
          "execution_count": 62
        }
      ]
    },
    {
      "cell_type": "code",
      "metadata": {
        "id": "qztVOP7w6brs",
        "colab_type": "code",
        "colab": {
          "base_uri": "https://localhost:8080/",
          "height": 52
        },
        "outputId": "07f27be5-27e6-4b13-eb08-3a11f719e19b"
      },
      "source": [
        "input(\"Enter anything here: \")"
      ],
      "execution_count": null,
      "outputs": [
        {
          "output_type": "stream",
          "text": [
            "Enter anything here: hi i entered something here\n"
          ],
          "name": "stdout"
        },
        {
          "output_type": "execute_result",
          "data": {
            "application/vnd.google.colaboratory.intrinsic": {
              "type": "string"
            },
            "text/plain": [
              "'hi i entered something here'"
            ]
          },
          "metadata": {
            "tags": []
          },
          "execution_count": 63
        }
      ]
    },
    {
      "cell_type": "code",
      "metadata": {
        "id": "g3xUX1JC6kfa",
        "colab_type": "code",
        "colab": {
          "base_uri": "https://localhost:8080/",
          "height": 181
        },
        "outputId": "ad5272c7-83a5-4a14-a87b-4513ab1bb0e4"
      },
      "source": [
        "x = int(input(\"Enter an integer here: \"))"
      ],
      "execution_count": null,
      "outputs": [
        {
          "output_type": "stream",
          "text": [
            "Enter an integer here: string\n"
          ],
          "name": "stdout"
        },
        {
          "output_type": "error",
          "ename": "ValueError",
          "evalue": "ignored",
          "traceback": [
            "\u001b[0;31m---------------------------------------------------------------------------\u001b[0m",
            "\u001b[0;31mValueError\u001b[0m                                Traceback (most recent call last)",
            "\u001b[0;32m<ipython-input-64-bf4847be710b>\u001b[0m in \u001b[0;36m<module>\u001b[0;34m()\u001b[0m\n\u001b[0;32m----> 1\u001b[0;31m \u001b[0mx\u001b[0m \u001b[0;34m=\u001b[0m \u001b[0mint\u001b[0m\u001b[0;34m(\u001b[0m\u001b[0minput\u001b[0m\u001b[0;34m(\u001b[0m\u001b[0;34m\"Enter an integer here: \"\u001b[0m\u001b[0;34m)\u001b[0m\u001b[0;34m)\u001b[0m\u001b[0;34m\u001b[0m\u001b[0;34m\u001b[0m\u001b[0m\n\u001b[0m",
            "\u001b[0;31mValueError\u001b[0m: invalid literal for int() with base 10: 'string'"
          ]
        }
      ]
    },
    {
      "cell_type": "markdown",
      "metadata": {
        "id": "YPzJYIAY8tj8",
        "colab_type": "text"
      },
      "source": [
        "### Run Time Errors"
      ]
    },
    {
      "cell_type": "code",
      "metadata": {
        "id": "T_x-MlgL6smN",
        "colab_type": "code",
        "colab": {
          "base_uri": "https://localhost:8080/",
          "height": 68
        },
        "outputId": "43a4a76d-cce8-4100-bcfb-d947c72eb43d"
      },
      "source": [
        "while True:\n",
        "  try:\n",
        "    string_variable = int(input(\"Enter an integer here: \"))\n",
        "    break;\n",
        "  except ValueError:\n",
        "    print(\"Invalid input. Please enter an integer\")\n"
      ],
      "execution_count": null,
      "outputs": [
        {
          "output_type": "stream",
          "text": [
            "Enter an integer here: hi\n",
            "Invalid input. Please enter an integer\n",
            "Enter an integer here: 12\n"
          ],
          "name": "stdout"
        }
      ]
    },
    {
      "cell_type": "markdown",
      "metadata": {
        "id": "ocjpNDbr8zG4",
        "colab_type": "text"
      },
      "source": [
        "### Division by zero error"
      ]
    },
    {
      "cell_type": "code",
      "metadata": {
        "id": "m5-peLZ084aV",
        "colab_type": "code",
        "colab": {
          "base_uri": "https://localhost:8080/",
          "height": 51
        },
        "outputId": "66f45f62-c1dd-441b-c1fb-fb8497753bd9"
      },
      "source": [
        "no_of_students = int(input(\"Enter the number of students: \"))\n",
        "while True:\n",
        "  try:\n",
        "    no_of_chocolates = 100\n",
        "    each_student_gets = no_of_chocolates/no_of_students\n",
        "    break\n",
        "  except ZeroDivisionError:\n",
        "    print(\"division not possible - since number of students = 0\")\n",
        "    break"
      ],
      "execution_count": null,
      "outputs": [
        {
          "output_type": "stream",
          "text": [
            "Enter the number of students: 0\n",
            "division not possible - since number of students = 0\n"
          ],
          "name": "stdout"
        }
      ]
    },
    {
      "cell_type": "markdown",
      "metadata": {
        "id": "USmkvphgi57i",
        "colab_type": "text"
      },
      "source": [
        "## Decisions \n"
      ]
    },
    {
      "cell_type": "code",
      "metadata": {
        "id": "LSYTfcn1jhin",
        "colab_type": "code",
        "colab": {
          "base_uri": "https://localhost:8080/",
          "height": 51
        },
        "outputId": "a0db1dac-4dd4-4cae-85c5-639ce2449373"
      },
      "source": [
        "try:\n",
        "  marks = float(input(\"Enter the marks: \"))\n",
        "except ValueError:\n",
        "  print(\"Not a valid mark. Setting marks to 25\")\n",
        "  marks = 25\n",
        "\n",
        "passing_marks = 35\n",
        "if marks < passing_marks:\n",
        "  print(\"Result - fail\")\n",
        "elif marks == passing_marks:\n",
        "  print(\"passed with 35 marks\")\n",
        "else:\n",
        "  print(\"Result - pass\")"
      ],
      "execution_count": 3,
      "outputs": [
        {
          "output_type": "stream",
          "text": [
            "Enter the marks: 100\n",
            "Result - pass\n"
          ],
          "name": "stdout"
        }
      ]
    },
    {
      "cell_type": "markdown",
      "metadata": {
        "id": "5qL1Kg1Hk6tR",
        "colab_type": "text"
      },
      "source": [
        "### Logical operators\n"
      ]
    },
    {
      "cell_type": "code",
      "metadata": {
        "id": "rQouw6ZZlB9d",
        "colab_type": "code",
        "colab": {
          "base_uri": "https://localhost:8080/",
          "height": 51
        },
        "outputId": "e0087b47-0ea8-41c2-d8e0-4e19331a123c"
      },
      "source": [
        "day = str(input((\"Enter the day: \")))\n",
        "day = day.strip()\n",
        "day = day.lower()\n",
        "day = day[0:3]\n",
        "if(day == \"sat\" or day == \"sun\"):\n",
        "  print(\"It is a weekend\")\n",
        "else:\n",
        "  print(\"It is a weekday\")\n"
      ],
      "execution_count": 13,
      "outputs": [
        {
          "output_type": "stream",
          "text": [
            "Enter the day: tuesday\n",
            "It is a weekday\n"
          ],
          "name": "stdout"
        }
      ]
    },
    {
      "cell_type": "code",
      "metadata": {
        "id": "hHN9lnEMpR3L",
        "colab_type": "code",
        "colab": {
          "base_uri": "https://localhost:8080/",
          "height": 34
        },
        "outputId": "156f2cdb-f6f8-4776-b29a-d3fd543449db"
      },
      "source": [
        "marks_in_science = 20\n",
        "marks_in_kannada = 45\n",
        "if(marks_in_science > passing_marks and marks_in_kannada):\n",
        "  print(\"passed in both the subjects\")\n",
        "else:\n",
        "  print(\"Result - fail: passed in only one of the subjects or failed in both\")"
      ],
      "execution_count": 15,
      "outputs": [
        {
          "output_type": "stream",
          "text": [
            "Result - fail: passed in only one of the subjects or failed in both\n"
          ],
          "name": "stdout"
        }
      ]
    },
    {
      "cell_type": "markdown",
      "metadata": {
        "id": "3f8MPe3hqI1w",
        "colab_type": "text"
      },
      "source": [
        "### Loops using ranges "
      ]
    },
    {
      "cell_type": "code",
      "metadata": {
        "id": "lD37ZlXXqLkr",
        "colab_type": "code",
        "colab": {
          "base_uri": "https://localhost:8080/",
          "height": 51
        },
        "outputId": "747c8a71-7a7c-41a3-c879-2f7ab2a2360b"
      },
      "source": [
        "test_range = range(1,11)\n",
        "print(test_range)\n",
        "type(test_range)"
      ],
      "execution_count": 17,
      "outputs": [
        {
          "output_type": "stream",
          "text": [
            "range(1, 11)\n"
          ],
          "name": "stdout"
        },
        {
          "output_type": "execute_result",
          "data": {
            "text/plain": [
              "range"
            ]
          },
          "metadata": {
            "tags": []
          },
          "execution_count": 17
        }
      ]
    },
    {
      "cell_type": "code",
      "metadata": {
        "id": "FJ2jmVShqVGk",
        "colab_type": "code",
        "colab": {
          "base_uri": "https://localhost:8080/",
          "height": 187
        },
        "outputId": "43b1d6c1-2ab7-472a-dbdc-01a0a674ebe0"
      },
      "source": [
        "for value in range(1,11):\n",
        "  print(\"value = {}\".format(value))"
      ],
      "execution_count": 19,
      "outputs": [
        {
          "output_type": "stream",
          "text": [
            "value = 1\n",
            "value = 2\n",
            "value = 3\n",
            "value = 4\n",
            "value = 5\n",
            "value = 6\n",
            "value = 7\n",
            "value = 8\n",
            "value = 9\n",
            "value = 10\n"
          ],
          "name": "stdout"
        }
      ]
    },
    {
      "cell_type": "markdown",
      "metadata": {
        "id": "ZHK8T_tVqveW",
        "colab_type": "text"
      },
      "source": [
        "### Looping through lists"
      ]
    },
    {
      "cell_type": "code",
      "metadata": {
        "id": "hYkN0q-7qxm7",
        "colab_type": "code",
        "colab": {
          "base_uri": "https://localhost:8080/",
          "height": 153
        },
        "outputId": "60b0c9a4-f46d-4d1c-ec89-149d419d4a82"
      },
      "source": [
        "list_fruits = [\"Apple\", \"Banana\", \"Grapes\", \"Orange\", \"Watermelon\", \"Strawberry\", \"Litchi\", \"Mango\"]\n",
        "for list_item in list_fruits:\n",
        "  print(\"list_item = {}\".format(list_item)) "
      ],
      "execution_count": 20,
      "outputs": [
        {
          "output_type": "stream",
          "text": [
            "list_item = Apple\n",
            "list_item = Banana\n",
            "list_item = Grapes\n",
            "list_item = Orange\n",
            "list_item = Watermelon\n",
            "list_item = Strawberry\n",
            "list_item = Litchi\n",
            "list_item = Mango\n"
          ],
          "name": "stdout"
        }
      ]
    }
  ]
}